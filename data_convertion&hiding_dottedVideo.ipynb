{
  "nbformat": 4,
  "nbformat_minor": 0,
  "metadata": {
    "colab": {
      "provenance": [],
      "collapsed_sections": [
        "8A_AcDACDeXQ"
      ],
      "include_colab_link": true
    },
    "kernelspec": {
      "name": "python3",
      "display_name": "Python 3"
    },
    "language_info": {
      "name": "python"
    }
  },
  "cells": [
    {
      "cell_type": "markdown",
      "metadata": {
        "id": "view-in-github",
        "colab_type": "text"
      },
      "source": [
        "<a href=\"https://colab.research.google.com/github/MBayezid/data-conversion-demo-python/blob/main/data_convertion%26hiding_dottedVideo.ipynb\" target=\"_parent\"><img src=\"https://colab.research.google.com/assets/colab-badge.svg\" alt=\"Open In Colab\"/></a>"
      ]
    },
    {
      "cell_type": "code",
      "source": [
        "# @title 0.0 Imports\n",
        "import zipfile\n",
        "import os\n",
        "import base64\n",
        "import shutil\n",
        "from PIL import Image, ImageDraw\n",
        "import io\n",
        "from google.colab import files\n"
      ],
      "metadata": {
        "id": "4w0A-fwuYEPu",
        "cellView": "form"
      },
      "execution_count": null,
      "outputs": []
    },
    {
      "cell_type": "code",
      "source": [
        "# @title 0.1 Prompts the user to select or create a directory to store uploaded files. Returns a list of selected file paths.\n",
        "\n",
        "\n",
        "def select_files():\n",
        "    \"\"\"\n",
        "    Prompts the user to select or create a directory to store uploaded files.\n",
        "    Returns a list of selected file paths.\n",
        "    \"\"\"\n",
        "\n",
        "    # Get user input for directory path\n",
        "    while True:\n",
        "        uploaded_dir = input(\"Enter directory to store files (or leave empty): \")\n",
        "\n",
        "        # Use default if input is empty\n",
        "        if not uploaded_dir:\n",
        "            uploaded_dir = \"uploaded_files\"\n",
        "            break\n",
        "\n",
        "\n",
        "        # Check if directory exists, create if not\n",
        "        if not os.path.exists(uploaded_dir):\n",
        "            create_dir = input(f\"Directory '{uploaded_dir}' does not exist. Create it? (y/n): \")\n",
        "            if create_dir.lower() == 'y' or create_dir.lower()=='':\n",
        "\n",
        "                break\n",
        "            else:\n",
        "                print(\"Please enter a valid directory or choose to create one.\")\n",
        "        else:\n",
        "            break\n",
        "\n",
        "    # Change to the selected directory\n",
        "    os.makedirs(uploaded_dir, exist_ok=True)\n",
        "    # os.chdir(uploaded_dir)\n",
        "    print(f\"Uploading to: {uploaded_dir}\")\n",
        "\n",
        "    # Upload files\n",
        "    print(\"Select files to upload:\")\n",
        "    uploaded = files.upload(target_dir = uploaded_dir)\n",
        "    return list(uploaded.keys())"
      ],
      "metadata": {
        "id": "tv_PIg6c29kS",
        "cellView": "form"
      },
      "execution_count": null,
      "outputs": []
    },
    {
      "cell_type": "code",
      "source": [
        "# Example usage with file selection:\n",
        "file_paths = select_files()"
      ],
      "metadata": {
        "colab": {
          "base_uri": "https://localhost:8080/",
          "height": 164
        },
        "id": "7O4DEAU89mja",
        "outputId": "723eea99-e687-4e53-9aff-d8a2c54e9ec7"
      },
      "execution_count": null,
      "outputs": [
        {
          "output_type": "stream",
          "name": "stdout",
          "text": [
            "Enter directory to store files (or leave empty): \n",
            "Uploading to: uploaded_files\n",
            "Select files to upload:\n"
          ]
        },
        {
          "output_type": "display_data",
          "data": {
            "text/plain": [
              "<IPython.core.display.HTML object>"
            ],
            "text/html": [
              "\n",
              "     <input type=\"file\" id=\"files-24ebf264-d6e8-46e3-9e2f-30b39a9bfab6\" name=\"files[]\" multiple disabled\n",
              "        style=\"border:none\" />\n",
              "     <output id=\"result-24ebf264-d6e8-46e3-9e2f-30b39a9bfab6\">\n",
              "      Upload widget is only available when the cell has been executed in the\n",
              "      current browser session. Please rerun this cell to enable.\n",
              "      </output>\n",
              "      <script>// Copyright 2017 Google LLC\n",
              "//\n",
              "// Licensed under the Apache License, Version 2.0 (the \"License\");\n",
              "// you may not use this file except in compliance with the License.\n",
              "// You may obtain a copy of the License at\n",
              "//\n",
              "//      http://www.apache.org/licenses/LICENSE-2.0\n",
              "//\n",
              "// Unless required by applicable law or agreed to in writing, software\n",
              "// distributed under the License is distributed on an \"AS IS\" BASIS,\n",
              "// WITHOUT WARRANTIES OR CONDITIONS OF ANY KIND, either express or implied.\n",
              "// See the License for the specific language governing permissions and\n",
              "// limitations under the License.\n",
              "\n",
              "/**\n",
              " * @fileoverview Helpers for google.colab Python module.\n",
              " */\n",
              "(function(scope) {\n",
              "function span(text, styleAttributes = {}) {\n",
              "  const element = document.createElement('span');\n",
              "  element.textContent = text;\n",
              "  for (const key of Object.keys(styleAttributes)) {\n",
              "    element.style[key] = styleAttributes[key];\n",
              "  }\n",
              "  return element;\n",
              "}\n",
              "\n",
              "// Max number of bytes which will be uploaded at a time.\n",
              "const MAX_PAYLOAD_SIZE = 100 * 1024;\n",
              "\n",
              "function _uploadFiles(inputId, outputId) {\n",
              "  const steps = uploadFilesStep(inputId, outputId);\n",
              "  const outputElement = document.getElementById(outputId);\n",
              "  // Cache steps on the outputElement to make it available for the next call\n",
              "  // to uploadFilesContinue from Python.\n",
              "  outputElement.steps = steps;\n",
              "\n",
              "  return _uploadFilesContinue(outputId);\n",
              "}\n",
              "\n",
              "// This is roughly an async generator (not supported in the browser yet),\n",
              "// where there are multiple asynchronous steps and the Python side is going\n",
              "// to poll for completion of each step.\n",
              "// This uses a Promise to block the python side on completion of each step,\n",
              "// then passes the result of the previous step as the input to the next step.\n",
              "function _uploadFilesContinue(outputId) {\n",
              "  const outputElement = document.getElementById(outputId);\n",
              "  const steps = outputElement.steps;\n",
              "\n",
              "  const next = steps.next(outputElement.lastPromiseValue);\n",
              "  return Promise.resolve(next.value.promise).then((value) => {\n",
              "    // Cache the last promise value to make it available to the next\n",
              "    // step of the generator.\n",
              "    outputElement.lastPromiseValue = value;\n",
              "    return next.value.response;\n",
              "  });\n",
              "}\n",
              "\n",
              "/**\n",
              " * Generator function which is called between each async step of the upload\n",
              " * process.\n",
              " * @param {string} inputId Element ID of the input file picker element.\n",
              " * @param {string} outputId Element ID of the output display.\n",
              " * @return {!Iterable<!Object>} Iterable of next steps.\n",
              " */\n",
              "function* uploadFilesStep(inputId, outputId) {\n",
              "  const inputElement = document.getElementById(inputId);\n",
              "  inputElement.disabled = false;\n",
              "\n",
              "  const outputElement = document.getElementById(outputId);\n",
              "  outputElement.innerHTML = '';\n",
              "\n",
              "  const pickedPromise = new Promise((resolve) => {\n",
              "    inputElement.addEventListener('change', (e) => {\n",
              "      resolve(e.target.files);\n",
              "    });\n",
              "  });\n",
              "\n",
              "  const cancel = document.createElement('button');\n",
              "  inputElement.parentElement.appendChild(cancel);\n",
              "  cancel.textContent = 'Cancel upload';\n",
              "  const cancelPromise = new Promise((resolve) => {\n",
              "    cancel.onclick = () => {\n",
              "      resolve(null);\n",
              "    };\n",
              "  });\n",
              "\n",
              "  // Wait for the user to pick the files.\n",
              "  const files = yield {\n",
              "    promise: Promise.race([pickedPromise, cancelPromise]),\n",
              "    response: {\n",
              "      action: 'starting',\n",
              "    }\n",
              "  };\n",
              "\n",
              "  cancel.remove();\n",
              "\n",
              "  // Disable the input element since further picks are not allowed.\n",
              "  inputElement.disabled = true;\n",
              "\n",
              "  if (!files) {\n",
              "    return {\n",
              "      response: {\n",
              "        action: 'complete',\n",
              "      }\n",
              "    };\n",
              "  }\n",
              "\n",
              "  for (const file of files) {\n",
              "    const li = document.createElement('li');\n",
              "    li.append(span(file.name, {fontWeight: 'bold'}));\n",
              "    li.append(span(\n",
              "        `(${file.type || 'n/a'}) - ${file.size} bytes, ` +\n",
              "        `last modified: ${\n",
              "            file.lastModifiedDate ? file.lastModifiedDate.toLocaleDateString() :\n",
              "                                    'n/a'} - `));\n",
              "    const percent = span('0% done');\n",
              "    li.appendChild(percent);\n",
              "\n",
              "    outputElement.appendChild(li);\n",
              "\n",
              "    const fileDataPromise = new Promise((resolve) => {\n",
              "      const reader = new FileReader();\n",
              "      reader.onload = (e) => {\n",
              "        resolve(e.target.result);\n",
              "      };\n",
              "      reader.readAsArrayBuffer(file);\n",
              "    });\n",
              "    // Wait for the data to be ready.\n",
              "    let fileData = yield {\n",
              "      promise: fileDataPromise,\n",
              "      response: {\n",
              "        action: 'continue',\n",
              "      }\n",
              "    };\n",
              "\n",
              "    // Use a chunked sending to avoid message size limits. See b/62115660.\n",
              "    let position = 0;\n",
              "    do {\n",
              "      const length = Math.min(fileData.byteLength - position, MAX_PAYLOAD_SIZE);\n",
              "      const chunk = new Uint8Array(fileData, position, length);\n",
              "      position += length;\n",
              "\n",
              "      const base64 = btoa(String.fromCharCode.apply(null, chunk));\n",
              "      yield {\n",
              "        response: {\n",
              "          action: 'append',\n",
              "          file: file.name,\n",
              "          data: base64,\n",
              "        },\n",
              "      };\n",
              "\n",
              "      let percentDone = fileData.byteLength === 0 ?\n",
              "          100 :\n",
              "          Math.round((position / fileData.byteLength) * 100);\n",
              "      percent.textContent = `${percentDone}% done`;\n",
              "\n",
              "    } while (position < fileData.byteLength);\n",
              "  }\n",
              "\n",
              "  // All done.\n",
              "  yield {\n",
              "    response: {\n",
              "      action: 'complete',\n",
              "    }\n",
              "  };\n",
              "}\n",
              "\n",
              "scope.google = scope.google || {};\n",
              "scope.google.colab = scope.google.colab || {};\n",
              "scope.google.colab._files = {\n",
              "  _uploadFiles,\n",
              "  _uploadFilesContinue,\n",
              "};\n",
              "})(self);\n",
              "</script> "
            ]
          },
          "metadata": {}
        },
        {
          "output_type": "stream",
          "name": "stdout",
          "text": [
            "Saving New Text Document.txt to uploaded_files/New Text Document.txt\n",
            "Saving Ralink RT5390 802.11bgn WiFi Adapter.txt to uploaded_files/Ralink RT5390 802.11bgn WiFi Adapter.txt\n"
          ]
        }
      ]
    },
    {
      "cell_type": "code",
      "source": [
        " # @title 1.0 Zips multiple files into a single zip archive.\n",
        "\n",
        "def zip_files(file_paths, zip_filename, ziped_out_dir):\n",
        "  \"\"\"\n",
        "  Zips multiple files into a single zip archive.\n",
        "\n",
        "  Args:\n",
        "    file_paths: A list of file paths to be zipped.\n",
        "    zip_filename: The name of the output zip file (including .zip extension).\n",
        "    ziped_out_dir: The directory where the zip file will be saved.\n",
        "  \"\"\"\n",
        "  try:\n",
        "    if not zip_filename.endswith(\".zip\"):\n",
        "      zip_filename = zip_filename + \".zip\"\n",
        "\n",
        "    full_zip_path = os.path.join(ziped_out_dir, zip_filename)\n",
        "    os.makedirs(ziped_out_dir, exist_ok=True)\n",
        "\n",
        "    with zipfile.ZipFile(full_zip_path, 'w', zipfile.ZIP_DEFLATED) as zipf:\n",
        "      for file_path in file_paths:\n",
        "        if os.path.exists(file_path):\n",
        "          zipf.write(file_path, arcname=os.path.basename(file_path))\n",
        "        else:\n",
        "          print(f\"Warning: File not found: {file_path}\")\n",
        "    print(f\"Successfully created {full_zip_path}\")\n",
        "    return full_zip_path\n",
        "\n",
        "  except FileNotFoundError:\n",
        "    print(f\"Error: One or more files not found.\")\n",
        "  except Exception as e:\n",
        "    print(f\"An error occurred: {e}\")\n",
        "\n",
        "\n",
        "\n",
        "# Example Usage:\n",
        "if file_paths:\n",
        "  zip_filename = input(\"Enter zip name: \")\n",
        "\n",
        "  if not zip_filename or zip_filename==\"\":\n",
        "    zip_filename = \"my_archive.zip\"\n",
        "\n",
        "  zipped_out_dir =  \"zipped_out_dir\"\n",
        "  full_zip_path = zip_files(file_paths, zip_filename, zipped_out_dir)\n",
        "\n",
        "else:\n",
        "  print(\"No files selected.\")"
      ],
      "metadata": {
        "colab": {
          "base_uri": "https://localhost:8080/"
        },
        "id": "UNnSaphV4jNq",
        "outputId": "d0dc8788-cd75-4926-f9b7-504143e5c6b3",
        "cellView": "form"
      },
      "execution_count": null,
      "outputs": [
        {
          "output_type": "stream",
          "name": "stdout",
          "text": [
            "Enter zip name: \n",
            "Successfully created zipped_out_dir/my_archive.zip\n"
          ]
        }
      ]
    },
    {
      "cell_type": "code",
      "source": [
        "# @title 2.0 Converts a zip file to a base64 encoded string.\n",
        "\n",
        "def zip_to_base64(zip_filename):\n",
        "    \"\"\"Converts a zip file to a base64 encoded string.\"\"\"\n",
        "    try:\n",
        "        with open(zip_filename, \"rb\") as zip_file:\n",
        "            zip_data = zip_file.read()\n",
        "        encoded_zip = base64.b64encode(zip_data).decode('utf-8')\n",
        "        return encoded_zip\n",
        "    except FileNotFoundError:\n",
        "        print(f\"Error: Zip file not found: {zip_filename}\")\n",
        "        return None\n",
        "    except Exception as e:\n",
        "        print(f\"An error occurred: {e}\")\n",
        "        return None"
      ],
      "metadata": {
        "id": "OKz4vCHp4q8U",
        "cellView": "form"
      },
      "execution_count": null,
      "outputs": []
    },
    {
      "cell_type": "code",
      "source": [
        "# Example usage with file selection:\n",
        "zip_to_base64_text = zip_to_base64(full_zip_path)\n",
        "print(len(zip_to_base64_text))\n",
        "zip_to_base64_text[:50]"
      ],
      "metadata": {
        "colab": {
          "base_uri": "https://localhost:8080/",
          "height": 55
        },
        "id": "IpKU_YPSJm6P",
        "outputId": "abc2a128-43de-41b7-c4a8-204740bafa52"
      },
      "execution_count": null,
      "outputs": [
        {
          "output_type": "stream",
          "name": "stdout",
          "text": [
            "492\n"
          ]
        },
        {
          "output_type": "execute_result",
          "data": {
            "text/plain": [
              "'UEsDBBQAAAAIACiQN1o6O1h7DgAAAA4AAAAVAAAATmV3IFRleH'"
            ],
            "application/vnd.google.colaboratory.intrinsic+json": {
              "type": "string"
            }
          },
          "metadata": {},
          "execution_count": 7
        }
      ]
    },
    {
      "cell_type": "code",
      "source": [
        "# @title  2.1 Converts a base64 into its binary representation.\n",
        "\n",
        "def base64_to_binary(base64_string):\n",
        "    \"\"\"Converts a base64 encoded string to its binary representation.\"\"\"\n",
        "    try:\n",
        "        decoded_bytes = base64.b64decode(base64_string)\n",
        "        binary_string = ''.join(format(byte, '08b') for byte in decoded_bytes)\n",
        "        return binary_string\n",
        "    except Exception as e:\n",
        "        print(f\"An error occurred: {e}\")\n",
        "        return None"
      ],
      "metadata": {
        "id": "gD3-A8u3UIsH",
        "cellView": "form"
      },
      "execution_count": null,
      "outputs": []
    },
    {
      "cell_type": "code",
      "source": [
        "# Example usage with file selection:\n",
        "base64_to_binary_text = base64_to_binary(zip_to_base64_text)\n",
        "print(len(base64_to_binary_text))\n",
        "base64_to_binary_text[:50]"
      ],
      "metadata": {
        "colab": {
          "base_uri": "https://localhost:8080/",
          "height": 55
        },
        "id": "CU9n4izJJ5wN",
        "outputId": "e3c796b7-a110-4e1f-dda6-7af339d54cb6"
      },
      "execution_count": null,
      "outputs": [
        {
          "output_type": "stream",
          "name": "stdout",
          "text": [
            "2944\n"
          ]
        },
        {
          "output_type": "execute_result",
          "data": {
            "text/plain": [
              "'01010000010010110000001100000100000101000000000000'"
            ],
            "application/vnd.google.colaboratory.intrinsic+json": {
              "type": "string"
            }
          },
          "metadata": {},
          "execution_count": 9
        }
      ]
    },
    {
      "cell_type": "code",
      "source": [
        "# @title 3.0 Pre-Calculations\n",
        "\n",
        "# Frame Shape FS = width*height*channels\n",
        "width, height, channels = 255, 255, 1\n",
        "FS = width*height*channels\n",
        "print(\"\\nFrame Shape (FS) = width(255)*height(255)*channels(1) : \", FS)\n",
        "\n",
        "# Single Frame Size in Pixels (SFSP) = ((steps*width)*(steps*height))* channels\n",
        "# steps/grid is the size of each squre shaped pixels in our generated frames\n",
        "steps=3\n",
        "print(\"\\nSteps/Grid size sat to: \",steps)\n",
        "\n",
        "width*=steps\n",
        "print(\"\\tnew width = width*steps: \",width)\n",
        "height*=steps\n",
        "print(\"\\tnew height = height*steps: \",height)\n",
        "\n",
        "FS = width*height*channels\n",
        "print(\"\\nNew Frame Shape (FS) will be: ((steps*width)*(steps*height))* channels : \", FS)\n",
        "\n",
        "# SFSP=((steps*width)*(steps*height))*channels\n",
        "# print(\"\\nSingle Frame Size in Pixels (SFSP) = ((steps*width)*(steps*height))* channels : \", SFSP)\n",
        "\n",
        "SFC = FS/(steps*steps)\n",
        "print(\"\\nSingle Frame Capacity (SFC) = FS / (steps*steps) : \", SFC)\n",
        "\n",
        "# ---------------------------------------------\n",
        "#\n",
        "print(\"\\nLength of our string when, base64  : \", len(zip_to_base64_text))\n",
        "print(\"Length of our string when, binary : \", len(base64_to_binary_text))\n",
        "print(\"\\tLength diffrence between base64 and binary: \",(len(zip_to_base64_text)-len(base64_to_binary_text)))\n",
        "\n",
        "\n",
        "DS = len(base64_to_binary_text)\n",
        "print(\"\\nData Size / length of binary_string: (DS): \" ,DS )\n",
        "\n",
        "# Frames Number or to be generate (FN)=  DS/SFC\n",
        "FN =  DS/SFC\n",
        "print(\"\\nFrames Number or to be generate (FN) =  DS/SFC : \" ,FN)\n",
        "if FN%2 != 0:\n",
        "  FN = int(FN)+1\n",
        "else:\n",
        "  FN = int(FN)\n",
        "print(\"\\nFN cant be fruction/float >>>> FN = int(FN)+1 \")\n",
        "print(\"\\nFrames Number or to be generate (FN) =  DS/SFC : \" ,FN)\n",
        "\n",
        "\n"
      ],
      "metadata": {
        "id": "m4cFXw6sXw_3",
        "colab": {
          "base_uri": "https://localhost:8080/"
        },
        "outputId": "8dcdc401-f755-401b-c8b3-98cfb4d589de",
        "cellView": "form"
      },
      "execution_count": null,
      "outputs": [
        {
          "output_type": "stream",
          "name": "stdout",
          "text": [
            "\n",
            "Frame Shape (FS) = width(255)*height(255)*channels(1) :  65025\n",
            "\n",
            "Steps/Grid size sat to:  3\n",
            "\tnew width = width*steps:  765\n",
            "\tnew height = height*steps:  765\n",
            "\n",
            "New Frame Shape (FS) will be: ((steps*width)*(steps*height))* channels :  585225\n",
            "\n",
            "Single Frame Capacity (SFC) = FS / (steps*steps) :  65025.0\n",
            "\n",
            "Length of our string when, base64  :  492\n",
            "Length of our string when, binary :  2944\n",
            "\tLength diffrence between base64 and binary:  -2452\n",
            "\n",
            "Data Size / length of binary_string: (DS):  2944\n",
            "\n",
            "Frames Number or to be generate (FN) =  DS/SFC :  0.045274894271434066\n",
            "\n",
            "FN cant be fruction/float >>>> FN = int(FN)+1 \n",
            "\n",
            "Frames Number or to be generate (FN) =  DS/SFC :  1\n"
          ]
        }
      ]
    },
    {
      "cell_type": "code",
      "source": [
        "import numpy as np\n",
        "\n",
        "def create_grayscale_images_from_binary_string(binary_string, width, height, max_pixels_per_image, output_folder=\"output_images\"):\n",
        "  \"\"\"\n",
        " # @title 4.0 Generate multiple grayscale images from a binary string and store sequencely to a specific folder.\n",
        "\n",
        "  Args:\n",
        "    binary_string: The input binary string.\n",
        "    width: The desired width of each image.\n",
        "    height: The desired height of each image.\n",
        "    max_pixels_per_image: The maximum number of pixels per image.\n",
        "    output_folder: The name of the output folder.\n",
        "\n",
        "  Returns:\n",
        "    A list of filenames of the generated images.\n",
        "  \"\"\"\n",
        "\n",
        "  os.makedirs(output_folder, exist_ok=True)  # Create output folder if it doesn't exist\n",
        "  image_filenames = []\n",
        "  image_count = 0\n",
        "\n",
        "  while binary_string:\n",
        "    image_name = os.path.join(output_folder, f\"binary_image_{image_count:03d}.png\")\n",
        "    img = Image.new('L', (width, height), color=255)  # Create a new grayscale image\n",
        "    pixels_to_process = min(max_pixels_per_image, len(binary_string))\n",
        "\n",
        "    # Efficiently process pixels using a 1D array\n",
        "    image_data = np.zeros((height, width), dtype=np.uint8)\n",
        "    for i in range(pixels_to_process):\n",
        "      if binary_string[i] == '0':\n",
        "        image_data[i // width, i % width] = 0\n",
        "      elif binary_string[i] == '1':\n",
        "        image_data[i // width, i % width] = 255\n",
        "\n",
        "    # Set pixels in the image using the efficient array\n",
        "    img.putdata(image_data.flatten())\n",
        "\n",
        "    img.save(image_name)\n",
        "    image_filenames.append(image_name)\n",
        "    image_count += 1\n",
        "\n",
        "    binary_string = binary_string[pixels_to_process:]\n",
        "\n",
        "  return image_filenames\n",
        "\n",
        "\n",
        "# Example usage\n",
        "# print(\"width = \",width)\n",
        "# print(\"height = \",height)\n",
        "# print(\"step = \",step)\n",
        "# max_pixels_per_image=FS\n",
        "# print(\"max_pixels_per_image = \",max_pixels_per_image)\n",
        "\n",
        "image_filenames = create_grayscale_images_from_binary_string(base64_to_binary_text, 255, 255, 255*255)\n",
        "print(f\"\\nGenerated image files length: {len(image_filenames)}\")\n",
        "print(f\"Generated image files: { image_filenames}\")"
      ],
      "metadata": {
        "colab": {
          "base_uri": "https://localhost:8080/"
        },
        "id": "NZtqpLd2lG6y",
        "outputId": "aafea0cb-53d3-4003-93da-fe90ba38fbdc",
        "cellView": "form"
      },
      "execution_count": null,
      "outputs": [
        {
          "output_type": "stream",
          "name": "stdout",
          "text": [
            "\n",
            "Generated image files length: 1\n",
            "Generated image files: ['output_images/binary_image_000.png']\n"
          ]
        }
      ]
    },
    {
      "cell_type": "code",
      "source": [
        "# @title 4.0 or Creates N grayscale images from a binary string.\n",
        "\n",
        "step = steps # pixel grid size\n",
        "print(\"Step/Grid size is: \",step)\n",
        "\n",
        "def create_grayscale_images_from_binary_string(binary_string, width, height, max_pixels_per_image, output_folder):\n",
        "    \"\"\"\n",
        "    Creates multiple grayscale images from a binary string.\n",
        "\n",
        "    Args:\n",
        "        binary_string: The binary string data.\n",
        "        width: Width of each image.\n",
        "        height: Height of each image.\n",
        "        max_pixels_per_image: Maximum number of pixels allowed per image.\n",
        "        output_folder: The folder to save the images to.\n",
        "\n",
        "    Returns:\n",
        "        A list of filenames of the generated images.\n",
        "    \"\"\"\n",
        "\n",
        "    os.makedirs(output_folder, exist_ok=True)  # Create output folder if it doesn't exist\n",
        "    image_filenames = []\n",
        "\n",
        "    image_count = 0\n",
        "    index = 0\n",
        "\n",
        "\n",
        "    while index < len(binary_string):\n",
        "        image_name = os.path.join(output_folder, f'binary_image_{image_count}.png')\n",
        "        img = Image.new('L', (width, height), color=128)\n",
        "        draw = ImageDraw.Draw(img)\n",
        "\n",
        "        for y in range(0, height, step):\n",
        "            for x in range(0, width, step):\n",
        "                if index < len(binary_string):\n",
        "                    color = 128\n",
        "\n",
        "                    if binary_string[index] == '0':\n",
        "                        color = 0\n",
        "                    elif binary_string[index] == '1':\n",
        "                        color = 255\n",
        "\n",
        "                    draw.rectangle([x, y, x + step - 1, y + step - 1], fill=color)\n",
        "                    index += 1\n",
        "                else:\n",
        "                    break  # Stop if we've reached the end of binary_string\n",
        "            else:\n",
        "                continue  # Continue if the inner loop wasn't broken\n",
        "            break  # Break the outer loop if the inner loop finished naturally\n",
        "\n",
        "        img.save(image_name)\n",
        "        image_filenames.append(image_name)\n",
        "        image_count += 1\n",
        "\n",
        "    return image_filenames\n",
        "\n"
      ],
      "metadata": {
        "id": "uB5q1Du_7rLK",
        "cellView": "form",
        "colab": {
          "base_uri": "https://localhost:8080/"
        },
        "outputId": "dcd6bd1f-efd8-4e98-c33e-779d285e808e"
      },
      "execution_count": null,
      "outputs": [
        {
          "output_type": "stream",
          "name": "stdout",
          "text": [
            "Step/Grid size is:  3\n"
          ]
        }
      ]
    },
    {
      "cell_type": "code",
      "source": [
        "# Example usage (assuming you have a binary string)\n",
        "# ... (your binary_string) ...\n",
        "print(\"width = \",width)\n",
        "print(\"height = \",height)\n",
        "print(\"step = \",step)\n",
        "max_pixels_per_image = FS\n",
        "print(\"max_pixels_per_image = \",max_pixels_per_image)\n",
        "\n",
        "output_folder=\"output_images_128\"\n",
        "print(\"output_folder = \",output_folder)\n",
        "\n",
        "image_filenames = create_grayscale_images_from_binary_string(base64_to_binary_text, width, height, max_pixels_per_image, output_folder)\n",
        "print(f\"Generated image files: {image_filenames}\")\n"
      ],
      "metadata": {
        "colab": {
          "base_uri": "https://localhost:8080/"
        },
        "id": "gmQlHlIDBBwI",
        "outputId": "f99c6a2f-d31f-433a-b689-367eeef416fa"
      },
      "execution_count": null,
      "outputs": [
        {
          "output_type": "stream",
          "name": "stdout",
          "text": [
            "width =  765\n",
            "height =  765\n",
            "step =  3\n",
            "max_pixels_per_image =  585225\n",
            "output_folder =  output_images_128\n",
            "Generated image files: ['output_images_128/binary_image_0.png']\n"
          ]
        }
      ]
    },
    {
      "cell_type": "code",
      "source": [
        "# @title 5.0 Generate a video (.mp4v) from a sequence of images.\n",
        "\n",
        "import cv2\n",
        "\n",
        "def create_video_from_images(image_folder, video_name, fps=24):\n",
        "    \"\"\"\n",
        "    Generates a video file from a sequence of images.\n",
        "\n",
        "    Args:\n",
        "        image_folder (str): Path to the folder containing the images.\n",
        "        video_name (str): Name of the output video file.\n",
        "        fps (int, optional): Frames per second for the video. Defaults to 24.\n",
        "    \"\"\"\n",
        "\n",
        "    images = [img for img in os.listdir(image_folder) if img.endswith((\".jpg\", \".jpeg\", \".png\"))]\n",
        "    images.sort()  # Ensure images are processed in the correct order\n",
        "\n",
        "    if not images:\n",
        "        print(f\"No images found in {image_folder}\")\n",
        "        return\n",
        "\n",
        "    frame = cv2.imread(os.path.join(image_folder, images[0]))\n",
        "    height, width, layers = frame.shape\n",
        "\n",
        "    fourcc = cv2.VideoWriter_fourcc(*'mp4v')  # Codec for MP4 format\n",
        "    video = cv2.VideoWriter(video_name, fourcc, fps, (width, height))\n",
        "\n",
        "    for image_path in images:\n",
        "        img = cv2.imread(os.path.join(image_folder, image_path))\n",
        "        video.write(img)\n",
        "\n",
        "    video.release()\n",
        "    print(f\"Video '{video_name}' created successfully!\")\n"
      ],
      "metadata": {
        "cellView": "form",
        "id": "mtVkp1gqEEYR"
      },
      "execution_count": null,
      "outputs": []
    },
    {
      "cell_type": "code",
      "source": [
        "# Replace with the actual path to your images in Google Drive\n",
        "# image_folder = '/content/drive/MyDrive/Colab Notebooks/generated_images'\n",
        "# image_folder = output_folder\n",
        "image_folder = \"output_images_128\"\n",
        "\n",
        "# Replace with the desired name for your output video file\n",
        "# video_name = 'output_video.mp4\n",
        "video_name = 'output_video_new.mp4'\n",
        "\n",
        "create_video_from_images(image_folder, video_name, fps=24)"
      ],
      "metadata": {
        "colab": {
          "base_uri": "https://localhost:8080/"
        },
        "id": "i6bL_GYtGcz_",
        "outputId": "64e1696c-6b69-4861-f84d-59201a6e2bdd"
      },
      "execution_count": null,
      "outputs": [
        {
          "output_type": "stream",
          "name": "stdout",
          "text": [
            "Video 'output_video_new.mp4' created successfully!\n"
          ]
        }
      ]
    },
    {
      "cell_type": "markdown",
      "source": [
        "\n",
        "\n",
        "---\n",
        "\n",
        "\n",
        "\n",
        "--- Uploa and store Data as Video file---\n",
        "\n",
        "\n",
        "[Store on Youtube like services](https://www.youtube.com/)\n",
        "\n",
        "--- Download and decode our data/files---\n",
        "\n",
        "---\n",
        "\n"
      ],
      "metadata": {
        "id": "T5rwldZPF6sZ"
      }
    },
    {
      "cell_type": "code",
      "source": [
        "# @title 6.0 Extracts frames from a video file and saves them as PNG.\n",
        "\n",
        "import cv2\n",
        "import os\n",
        "\n",
        "def extract_frames_from_video(video_path, output_dir):\n",
        "  \"\"\"\n",
        "  Extracts frames from a video file and saves them as images.\n",
        "\n",
        "  Args:\n",
        "    video_path: Path to the video file.\n",
        "    output_dir: Path to the directory where the frames will be saved.\n",
        "  \"\"\"\n",
        "\n",
        "  try:\n",
        "    os.makedirs(output_dir, exist_ok=True)  # Create the output directory if it doesn't exist\n",
        "\n",
        "    vidcap = cv2.VideoCapture(video_path)\n",
        "    success, image = vidcap.read()\n",
        "    count = 0\n",
        "\n",
        "    while success:\n",
        "      frame_name = os.path.join(output_dir, f\"frame_{count:04d}.png\")  # Use 4-digit frame number for consistent naming\n",
        "      cv2.imwrite(frame_name, image)\n",
        "      success, image = vidcap.read()\n",
        "      count += 1\n",
        "\n",
        "    print(f\"Successfully extracted {count} frames to {output_dir}\")\n",
        "\n",
        "  except Exception as e:\n",
        "    print(f\"Error extracting frames: {e}\")\n",
        "\n"
      ],
      "metadata": {
        "id": "XWj4tU4XGYQl",
        "cellView": "form"
      },
      "execution_count": null,
      "outputs": []
    },
    {
      "cell_type": "code",
      "source": [
        "# Example usage:\n",
        "# video_path = \"/content/drive/MyDrive/Colab Notebooks/test_data/21.15.50.01.mp4\"\n",
        "video_path = \"output_video_new.mp4\"\n",
        "output_dir = \"output_images_128_re-generated\"\n",
        "\n",
        "extract_frames_from_video(video_path, output_dir)"
      ],
      "metadata": {
        "colab": {
          "base_uri": "https://localhost:8080/"
        },
        "id": "yCnsHldIHOud",
        "outputId": "4503778e-1678-451e-c0cd-c58e60f2208f"
      },
      "execution_count": null,
      "outputs": [
        {
          "output_type": "stream",
          "name": "stdout",
          "text": [
            "Successfully extracted 1 frames to output_images_128_re-generated\n"
          ]
        }
      ]
    },
    {
      "cell_type": "code",
      "source": [
        "# @title  7.0 Reads all image file locations from a given directory and returns a sorted list of strings.\n",
        "\n",
        "def get_sorted_image_paths(directory):\n",
        "  \"\"\"\n",
        "  Reads all image file locations from a given directory and returns a sorted list of strings.\n",
        "\n",
        "  Args:\n",
        "    directory: The path to the directory containing the images.\n",
        "\n",
        "  Returns:\n",
        "    A sorted list of strings, where each string represents the full path to an image file.\n",
        "  \"\"\"\n",
        "  image_extensions = [\".jpg\", \".jpeg\", \".png\"]  # Add more extensions if needed\n",
        "  image_paths = []\n",
        "\n",
        "  for filename in sorted(os.listdir(directory)):\n",
        "      filepath = os.path.join(directory, filename)\n",
        "      if os.path.isfile(filepath) and any(filepath.lower().endswith(ext) for ext in image_extensions):\n",
        "          image_paths.append(filepath)\n",
        "\n",
        "  return image_paths\n",
        "\n",
        "# Example usage\n",
        "# image_dir = \"/path/to/your/image/directory\"  # Replace with the actual directory path\n",
        "sorted_image_list = get_sorted_image_paths(\"/content/output_images_128_re-generated\")\n",
        "print(len(sorted_image_list))\n",
        "print(sorted_image_list)"
      ],
      "metadata": {
        "colab": {
          "base_uri": "https://localhost:8080/"
        },
        "id": "5AHVGY18NS1P",
        "outputId": "962397e1-a4e8-400a-bcb5-4d7af8af188d",
        "cellView": "form"
      },
      "execution_count": null,
      "outputs": [
        {
          "output_type": "stream",
          "name": "stdout",
          "text": [
            "1\n",
            "['/content/output_images_128_re-generated/frame_0000.png']\n"
          ]
        }
      ]
    },
    {
      "cell_type": "code",
      "source": [
        "from PIL import Image\n",
        "import os\n",
        "\n",
        "# @title 8.0 Retrieves the original binary data from a set of grayscale images.\n",
        "\n",
        "def get_binary_data_from_grayscale_images(image_filenames, width, height, step):\n",
        "    \"\"\"\n",
        "    Retrieves the original binary data from a set of grayscale images.\n",
        "\n",
        "    Args:\n",
        "        image_filenames: A list of filenames of the grayscale images.\n",
        "        width: Width of each image.\n",
        "        height: Height of each image.\n",
        "        step: The step size used when creating the images.\n",
        "\n",
        "    Returns:\n",
        "        The original binary string.\n",
        "    \"\"\"\n",
        "\n",
        "    binary_string = \"\"\n",
        "\n",
        "    for filename in image_filenames:\n",
        "        img = Image.open(filename).convert('L')  # Open image in grayscale mode\n",
        "        pixels = img.load()\n",
        "\n",
        "        for y in range(0, height, step):\n",
        "            for x in range(0, width, step):\n",
        "                color = pixels[x, y]  # Get pixel value\n",
        "\n",
        "                if color == 0:\n",
        "                    binary_string += \"0\"\n",
        "                elif color == 255:\n",
        "                    binary_string += \"1\"\n",
        "                else:\n",
        "                    binary_string += \"\"  # Assume other values represent spaces/skip\n",
        "\n",
        "    return binary_string\n",
        "\n"
      ],
      "metadata": {
        "id": "QzyVuLni9Gxd",
        "cellView": "form"
      },
      "execution_count": null,
      "outputs": []
    },
    {
      "cell_type": "code",
      "source": [
        "sorted_image_list[:10]"
      ],
      "metadata": {
        "colab": {
          "base_uri": "https://localhost:8080/"
        },
        "id": "eIXBG9FMvJm1",
        "outputId": "94c4560e-955e-4c80-ec84-63b006255c21"
      },
      "execution_count": null,
      "outputs": [
        {
          "output_type": "execute_result",
          "data": {
            "text/plain": [
              "['/content/output_images_128_re-generated/frame_0000.png',\n",
              " '/content/output_images_128_re-generated/frame_0001.png',\n",
              " '/content/output_images_128_re-generated/frame_0002.png',\n",
              " '/content/output_images_128_re-generated/frame_0003.png',\n",
              " '/content/output_images_128_re-generated/frame_0004.png',\n",
              " '/content/output_images_128_re-generated/frame_0005.png',\n",
              " '/content/output_images_128_re-generated/frame_0006.png',\n",
              " '/content/output_images_128_re-generated/frame_0007.png',\n",
              " '/content/output_images_128_re-generated/frame_0008.png',\n",
              " '/content/output_images_128_re-generated/frame_0009.png']"
            ]
          },
          "metadata": {},
          "execution_count": 55
        }
      ]
    },
    {
      "cell_type": "code",
      "source": [
        "# Example usage:\n",
        "# Assuming you have the list of image filenames from the previous step\n",
        "# ... (image_filenames) ...\n",
        "\n",
        "restored_binary_data = get_binary_data_from_grayscale_images(sorted_image_list, width, height, step=3)\n",
        "print(restored_binary_data[:100])  # Print the restored binary data\n",
        "\n",
        "if base64_to_binary_text[:200]==restored_binary_data[:200] and len(base64_to_binary_text)==len(restored_binary_data):\n",
        "  print(\"success\")\n",
        "else:\n",
        "  print(\"fail\")\n",
        "\n",
        "#"
      ],
      "metadata": {
        "colab": {
          "base_uri": "https://localhost:8080/"
        },
        "id": "T1qRcoASFyXG",
        "outputId": "d540f638-07ee-484a-f79f-b028eab96ecf"
      },
      "execution_count": null,
      "outputs": [
        {
          "output_type": "stream",
          "name": "stdout",
          "text": [
            "0000011000000000100000000000000000000000000000000000010100000001101001000110101001000000000000000000\n",
            "fail\n"
          ]
        }
      ]
    },
    {
      "cell_type": "markdown",
      "source": [
        "**Failed means didnt got original data**\n",
        "\n",
        "Problem:\n",
        "\n",
        "Solution:"
      ],
      "metadata": {
        "id": "3vfxM5vVcO8X"
      }
    },
    {
      "cell_type": "code",
      "source": [
        "print(  len(base64_to_binary_text))\n",
        "print(len(restored_binary_data))\n",
        "print(restored_binary_data.count(\"0\"))\n",
        "print(restored_binary_data.count(\"1\"))"
      ],
      "metadata": {
        "colab": {
          "base_uri": "https://localhost:8080/"
        },
        "id": "VtzQz8l9-i5r",
        "outputId": "c2f472da-360a-48d7-821d-efcf88616fae"
      },
      "execution_count": null,
      "outputs": [
        {
          "output_type": "stream",
          "name": "stdout",
          "text": [
            "2944\n",
            "1222\n",
            "1031\n",
            "191\n"
          ]
        }
      ]
    },
    {
      "cell_type": "markdown",
      "source": [
        "\n",
        "\n",
        "---\n",
        "\n",
        "\n",
        "\n",
        "---\n",
        "\n"
      ],
      "metadata": {
        "id": "PKnn2gO0xcoH"
      }
    },
    {
      "cell_type": "code",
      "source": [
        "from PIL import Image\n",
        "\n",
        "def open_image(image_path):\n",
        "  \"\"\"\n",
        "  Opens an image from the specified location.\n",
        "\n",
        "  Args:\n",
        "    image_path: The path to the image file.\n",
        "\n",
        "  Returns:\n",
        "    A PIL Image object representing the opened image.\n",
        "\n",
        "  Raises:\n",
        "    FileNotFoundError: If the image file is not found.\n",
        "    OSError: If an error occurs while opening the image.\n",
        "  \"\"\"\n",
        "\n",
        "  try:\n",
        "    img = Image.open(image_path)\n",
        "    return img\n",
        "  except FileNotFoundError:\n",
        "    raise FileNotFoundError(f\"Image file not found: {image_path}\")\n",
        "  except OSError as e:\n",
        "    raise OSError(f\"Error opening image: {image_path} ({e})\")\n",
        "\n",
        "# Example usage\n",
        "image_path =  \"output_images_128_re-generated/frame_4040.png\"\n",
        "print(image_path)\n",
        "\n",
        "img = open_image(\"output_images_128_re-generated/frame_4040.png\")\n",
        "img.show()  # Display the image\n"
      ],
      "metadata": {
        "colab": {
          "base_uri": "https://localhost:8080/"
        },
        "id": "k9sQN4zexc2d",
        "outputId": "8d1d50ed-17bd-45c4-9f0c-a1b2ff881f9d"
      },
      "execution_count": null,
      "outputs": [
        {
          "output_type": "stream",
          "name": "stdout",
          "text": [
            "output_images_128_re-generated/frame_4040.png\n"
          ]
        }
      ]
    },
    {
      "cell_type": "markdown",
      "source": [
        "\n",
        "\n",
        "---\n",
        "\n",
        "\n",
        "\n",
        "---\n",
        "\n"
      ],
      "metadata": {
        "id": "LIv_R7GD7qF8"
      }
    },
    {
      "cell_type": "markdown",
      "source": [
        "#Decode (Ext)"
      ],
      "metadata": {
        "id": "8A_AcDACDeXQ"
      }
    },
    {
      "cell_type": "code",
      "source": [
        "# @title Converts a binary string to a base64 encoded string.\n",
        "def binary_to_base64(binary_string):\n",
        "    \"\"\"Converts a binary string to a base64 encoded string.\"\"\"\n",
        "    try:\n",
        "        # Ensure the binary string has a length divisible by 8\n",
        "        if len(binary_string) % 8 != 0:\n",
        "            print(\"Warning: Binary string length is not a multiple of 8. Padding with zeros.\")\n",
        "            binary_string += '0' * (8 - (len(binary_string) % 8))  # Pad with zeros\n",
        "\n",
        "        decoded_bytes = bytearray()\n",
        "        for i in range(0, len(binary_string), 8):\n",
        "            byte_string = binary_string[i:i+8]\n",
        "            decoded_bytes.append(int(byte_string, 2))\n",
        "\n",
        "        base64_string = base64.b64encode(decoded_bytes).decode('utf-8')\n",
        "        return base64_string\n",
        "    except Exception as e:\n",
        "        print(f\"An error occurred: {e}\")\n",
        "        return None\n",
        "\n"
      ],
      "metadata": {
        "colab": {
          "base_uri": "https://localhost:8080/",
          "height": 91
        },
        "id": "B--aBrC1YRdu",
        "outputId": "fc577b31-e8a0-47aa-8269-e3572d5dd9ad"
      },
      "execution_count": null,
      "outputs": [
        {
          "output_type": "stream",
          "name": "stdout",
          "text": [
            "827300\n",
            "827300\n",
            "success\n"
          ]
        },
        {
          "output_type": "execute_result",
          "data": {
            "text/plain": [
              "'UEsDBBQAAAAIAHs3MFoE6PblHawAALuAAQAOAAAAYm9va21hcmtzLmh0bWzsu1mzrEh6rnmvX7GVF33Mmk4BAQGEVFltzEMwz3AjY57nmV/f7EpVSepz7JyWzFrdF7lsbyPC3XF33L/heZ21/vT3jEbbgc7+UFnbokmd/ZUahqaL5ubXvGqzX+E//92f/v7XX3/YZbX8'"
            ],
            "application/vnd.google.colaboratory.intrinsic+json": {
              "type": "string"
            }
          },
          "metadata": {},
          "execution_count": 32
        }
      ]
    },
    {
      "cell_type": "code",
      "source": [
        "restored_binary_to_base64_text = binary_to_base64(restored_binary_data)\n",
        "\n",
        "print(len(restored_binary_to_base64_text))\n",
        "print(len(zip_to_base64_text))\n",
        "if zip_to_base64_text[:200]== restored_binary_to_base64_text[:200]:\n",
        "  print(\"success\")\n",
        "else:\n",
        "  print(\"fail\")\n",
        "\n",
        "restored_binary_to_base64_text[:200]"
      ],
      "metadata": {
        "id": "wtUiq16nNzvj"
      },
      "execution_count": null,
      "outputs": []
    },
    {
      "cell_type": "code",
      "source": [
        "\n",
        "# @title Converts a base64 back to a zip file.\n",
        "def base64_to_zip(text_data, zip_filename):\n",
        "    \"\"\"Converts a base64 encoded string back to a zip file.\"\"\"\n",
        "    try:\n",
        "        decoded_zip = base64.b64decode(text_data)\n",
        "        with open(zip_filename, \"wb\") as zip_file:\n",
        "            zip_file.write(decoded_zip)\n",
        "        print(f\"Successfully created {zip_filename}\")\n",
        "    except Exception as e:\n",
        "        print(f\"An error occurred: {e}\")\n",
        "\n",
        "\n",
        "restored_archive=\"restored_archive.zip\"\n",
        "base64_to_zip(restored_binary_to_base64_text,restored_archive )"
      ],
      "metadata": {
        "colab": {
          "base_uri": "https://localhost:8080/"
        },
        "id": "a125K8CvZCiv",
        "outputId": "f3ed5926-fb8a-43f9-cb15-8dc58a08b289"
      },
      "execution_count": null,
      "outputs": [
        {
          "output_type": "stream",
          "name": "stdout",
          "text": [
            "Successfully created restored_archive.zip\n"
          ]
        }
      ]
    },
    {
      "cell_type": "code",
      "source": [
        "# @title Unzips a zip archive to a specified directory.\n",
        "\n",
        "\n",
        "def unzip_files(zip_filename, output_dir):\n",
        "  \"\"\"\n",
        "  Unzips a zip archive to a specified directory.\n",
        "\n",
        "  Args:\n",
        "    zip_filename: The path to the zip file to unzip.\n",
        "    output_dir: The directory to extract the contents to.\n",
        "  \"\"\"\n",
        "  try:\n",
        "    # Avoid changing the working directory (os.chdir) unnecessarily\n",
        "    with zipfile.ZipFile(zip_filename, 'r') as zipf:\n",
        "      os.makedirs(output_dir, exist_ok=True)\n",
        "      print(f\"Unzipping {zip_filename} to {output_dir}\")\n",
        "      zipf.extractall(output_dir)\n",
        "    print(f\"Successfully extracted {zip_filename} to {output_dir}\")\n",
        "\n",
        "  except FileNotFoundError:\n",
        "    print(f\"Error: Zip file not found: {zip_filename}\")\n",
        "  except zipfile.BadZipFile:\n",
        "    print(f\"Error: Invalid zip file: {zip_filename}\")\n",
        "  except Exception as e:\n",
        "    print(f\"An error occurred: {e}\")\n",
        "\n",
        "\n",
        "\n",
        "# Example Usage:\n",
        "print(\"Files in the current directory:\"+ restored_archive)\n",
        "# zip_filename = restored_archive  # Replace with the actual zip file path\n",
        "output_dir = \"unzipprd_out_dir\"  # Replace with your desired extraction directory\n",
        "unzip_files(restored_archive, output_dir)"
      ],
      "metadata": {
        "colab": {
          "base_uri": "https://localhost:8080/"
        },
        "id": "0j6lGn14XgTY",
        "outputId": "77773220-c613-4d78-9107-9e21f2cb1024"
      },
      "execution_count": null,
      "outputs": [
        {
          "output_type": "stream",
          "name": "stdout",
          "text": [
            "Files in the current directory:restored_archive.zip\n",
            "Unzipping restored_archive.zip to unzipprd_out_dir\n",
            "Successfully extracted restored_archive.zip to unzipprd_out_dir\n"
          ]
        }
      ]
    },
    {
      "cell_type": "markdown",
      "source": [
        "\n",
        "\n",
        "---\n",
        "\n"
      ],
      "metadata": {
        "id": "zGpxTB9ZijbT"
      }
    },
    {
      "cell_type": "markdown",
      "source": [
        "\n",
        "\n",
        "---\n",
        "\n",
        "execute\n",
        "\n",
        "---\n",
        "\n"
      ],
      "metadata": {
        "id": "Y9atvjp8ZIUF"
      }
    },
    {
      "cell_type": "code",
      "source": [
        "# @title Example usage (assuming you have a base64 encoded zip string)\n",
        "print(\"\\nbase64 representation :\")\n",
        "zip_to_base64_string = zip_to_base64(\"my_archive.zip\") #Replace with your zip file\n",
        "print(zip_to_base64_string[:100])\n",
        "\n",
        "\n",
        "# Example usage (assuming you have a binary string)\n",
        "# ... (previous code) ...\n",
        "\n",
        "\n",
        "if zip_to_base64_string:\n",
        "    binary_data = base64_to_binary(zip_to_base64_string)\n",
        "    if binary_data:\n",
        "        print(\"Binary representation:\")\n",
        "        print(binary_data[:100])  # Print the first 100 characters of the binary data\n",
        "        print(binary_data.count)\n",
        "\n",
        "        # Convert binary back to base64\n",
        "        restored_base64 = binary_to_base64(binary_data)\n",
        "        if restored_base64:\n",
        "            print(\"\\nRestored base64 string:\")\n",
        "            print(restored_base64[:100]) # Print the first 100 characters for verification\n",
        "            print(restored_base64.count)\n",
        "            #Convert to zip file\n",
        "            base64_to_zip(restored_base64, \"restored_archive.zip\")\n",
        "        else:\n",
        "            print(\"Failed to convert binary back to base64.\")\n",
        "    else:\n",
        "        print(\"Failed to convert base64 to binary.\")\n",
        "else:\n",
        "    print(\"Failed to convert zip to base64.\")"
      ],
      "metadata": {
        "colab": {
          "base_uri": "https://localhost:8080/"
        },
        "cellView": "form",
        "id": "8Wy4zFicKbT2",
        "outputId": "c3d088fb-0b60-4391-b619-cde3f748f6b5"
      },
      "execution_count": null,
      "outputs": [
        {
          "output_type": "stream",
          "name": "stdout",
          "text": [
            "\n",
            "base64 representation string:\n",
            "UEsDBBQAAAAIAPKlK1pwKXSnRb0HAB1ICAAXAAAASU1HXzIwMTUxMTIxXzEwMjAwNC5qcGfsvXk8VV//8L3POaYoSiIRDaSSCkkU\n",
            "Binary representation:\n",
            "0101000001001011000000110000010000010100000000000000000000000000000010000000000011110010101001010010\n",
            "<built-in method count of str object at 0x55e577431bf0>\n",
            "\n",
            "Restored base64 string:\n",
            "UEsDBBQAAAAIAPKlK1pwKXSnRb0HAB1ICAAXAAAASU1HXzIwMTUxMTIxXzEwMjAwNC5qcGfsvXk8VV//8L3POaYoSiIRDaSSCkkU\n",
            "<built-in method count of str object at 0x55e576c8d7b0>\n",
            "Successfully created restored_archive.zip\n"
          ]
        }
      ]
    },
    {
      "cell_type": "code",
      "source": [
        "# @title Converts a base64 encoded zip string to binary data.\n",
        "# now create a function to convert encoded_zip into binary also create a function to convert back into previous data type\n",
        "\n",
        "\n",
        "# @title Converts a base64 encoded zip string to binary data.\n",
        "def encoded_zip_to_binary(encoded_zip):\n",
        "  \"\"\"Converts a base64 encoded zip string to binary data.\n",
        "\n",
        "  Args:\n",
        "    encoded_zip: The base64 encoded zip string.\n",
        "\n",
        "  Returns:\n",
        "    The binary data representing the zip file, or None if an error occurs.\n",
        "  \"\"\"\n",
        "  try:\n",
        "    zip_bytes = base64.b64decode(encoded_zip)\n",
        "    return zip_bytes\n",
        "  except Exception as e:\n",
        "    print(f\"Error decoding base64 string: {e}\")\n",
        "    return None\n",
        "\n",
        "# @title Converts a base64 encoded zip string to binary data.\n",
        "def binary_to_encoded_zip(zip_bytes):\n",
        "  \"\"\"Converts binary zip data to a base64 encoded string.\n",
        "\n",
        "  Args:\n",
        "    zip_bytes: The binary data representing the zip file.\n",
        "\n",
        "  Returns:\n",
        "    The base64 encoded string, or None if an error occurs.\n",
        "  \"\"\"\n",
        "  try:\n",
        "    encoded_zip = base64.b64encode(zip_bytes).decode('utf-8')\n",
        "    return encoded_zip\n",
        "  except Exception as e:\n",
        "    print(f\"Error encoding to base64 string: {e}\")\n",
        "    return None\n",
        "\n",
        "bData=zip_to_base64_text(\"/content/zipped_out_dir/my_archive.zip\")\n",
        "bData[:1100]\n",
        "\n",
        "bData=encoded_zip_to_binary(bData)\n",
        "\n",
        "bData[:100]"
      ],
      "metadata": {
        "id": "IjR2kU20GIa0",
        "cellView": "form"
      },
      "execution_count": null,
      "outputs": []
    },
    {
      "cell_type": "markdown",
      "source": [
        "\n",
        "\n",
        "---\n",
        "\n"
      ],
      "metadata": {
        "id": "rICuCGd4JbeZ"
      }
    },
    {
      "cell_type": "code",
      "source": [],
      "metadata": {
        "id": "WNoDG5ARJdhA"
      },
      "execution_count": null,
      "outputs": []
    }
  ]
}