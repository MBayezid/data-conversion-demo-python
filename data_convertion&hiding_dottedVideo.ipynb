{
  "nbformat": 4,
  "nbformat_minor": 0,
  "metadata": {
    "colab": {
      "provenance": [],
      "collapsed_sections": [
        "8A_AcDACDeXQ"
      ],
      "include_colab_link": true
    },
    "kernelspec": {
      "name": "python3",
      "display_name": "Python 3"
    },
    "language_info": {
      "name": "python"
    }
  },
  "cells": [
    {
      "cell_type": "markdown",
      "metadata": {
        "id": "view-in-github",
        "colab_type": "text"
      },
      "source": [
        "<a href=\"https://colab.research.google.com/github/MBayezid/data-conversion-demo-python/blob/main/data_convertion%26hiding_dottedVideo.ipynb\" target=\"_parent\"><img src=\"https://colab.research.google.com/assets/colab-badge.svg\" alt=\"Open In Colab\"/></a>"
      ]
    },
    {
      "cell_type": "code",
      "source": [
        "# @title 0.0 Imports\n",
        "import zipfile\n",
        "import os\n",
        "import base64\n",
        "import shutil\n",
        "from PIL import Image, ImageDraw\n",
        "import io\n",
        "from google.colab import files\n"
      ],
      "metadata": {
        "id": "4w0A-fwuYEPu",
        "cellView": "form"
      },
      "execution_count": 1,
      "outputs": []
    },
    {
      "cell_type": "code",
      "source": [
        "# @title 0.1 Prompts the user to select or create a directory to store uploaded files. Returns a list of selected file paths.\n",
        "\n",
        "\n",
        "def select_files():\n",
        "    \"\"\"\n",
        "    Prompts the user to select or create a directory to store uploaded files.\n",
        "    Returns a list of selected file paths.\n",
        "    \"\"\"\n",
        "\n",
        "    # Get user input for directory path\n",
        "    while True:\n",
        "        uploaded_dir = input(\"Enter directory to store files (or leave empty): \")\n",
        "\n",
        "        # Use default if input is empty\n",
        "        if not uploaded_dir:\n",
        "            uploaded_dir = \"uploaded_files\"\n",
        "            break\n",
        "\n",
        "\n",
        "        # Check if directory exists, create if not\n",
        "        if not os.path.exists(uploaded_dir):\n",
        "            create_dir = input(f\"Directory '{uploaded_dir}' does not exist. Create it? (y/n): \")\n",
        "            if create_dir.lower() == 'y' or create_dir.lower()=='':\n",
        "\n",
        "                break\n",
        "            else:\n",
        "                print(\"Please enter a valid directory or choose to create one.\")\n",
        "        else:\n",
        "            break\n",
        "\n",
        "    # Change to the selected directory\n",
        "    os.makedirs(uploaded_dir, exist_ok=True)\n",
        "    # os.chdir(uploaded_dir)\n",
        "    print(f\"Uploading to: {uploaded_dir}\")\n",
        "\n",
        "    # Upload files\n",
        "    print(\"Select files to upload:\")\n",
        "    uploaded = files.upload(target_dir = uploaded_dir)\n",
        "    return list(uploaded.keys())"
      ],
      "metadata": {
        "id": "tv_PIg6c29kS",
        "cellView": "form"
      },
      "execution_count": 3,
      "outputs": []
    },
    {
      "cell_type": "code",
      "source": [
        "# Example usage with file selection:\n",
        "file_paths = select_files()"
      ],
      "metadata": {
        "colab": {
          "base_uri": "https://localhost:8080/",
          "height": 291
        },
        "id": "7O4DEAU89mja",
        "outputId": "21901ccf-2d74-4f7b-8527-425e61cbe12d"
      },
      "execution_count": 5,
      "outputs": [
        {
          "output_type": "stream",
          "name": "stdout",
          "text": [
            "Enter directory to store files (or leave empty): \n",
            "Uploading to: uploaded_files\n",
            "Select files to upload:\n"
          ]
        },
        {
          "output_type": "display_data",
          "data": {
            "text/plain": [
              "<IPython.core.display.HTML object>"
            ],
            "text/html": [
              "\n",
              "     <input type=\"file\" id=\"files-d79a37df-eb6b-4ea6-beb3-ae50b0ee21ee\" name=\"files[]\" multiple disabled\n",
              "        style=\"border:none\" />\n",
              "     <output id=\"result-d79a37df-eb6b-4ea6-beb3-ae50b0ee21ee\">\n",
              "      Upload widget is only available when the cell has been executed in the\n",
              "      current browser session. Please rerun this cell to enable.\n",
              "      </output>\n",
              "      <script>// Copyright 2017 Google LLC\n",
              "//\n",
              "// Licensed under the Apache License, Version 2.0 (the \"License\");\n",
              "// you may not use this file except in compliance with the License.\n",
              "// You may obtain a copy of the License at\n",
              "//\n",
              "//      http://www.apache.org/licenses/LICENSE-2.0\n",
              "//\n",
              "// Unless required by applicable law or agreed to in writing, software\n",
              "// distributed under the License is distributed on an \"AS IS\" BASIS,\n",
              "// WITHOUT WARRANTIES OR CONDITIONS OF ANY KIND, either express or implied.\n",
              "// See the License for the specific language governing permissions and\n",
              "// limitations under the License.\n",
              "\n",
              "/**\n",
              " * @fileoverview Helpers for google.colab Python module.\n",
              " */\n",
              "(function(scope) {\n",
              "function span(text, styleAttributes = {}) {\n",
              "  const element = document.createElement('span');\n",
              "  element.textContent = text;\n",
              "  for (const key of Object.keys(styleAttributes)) {\n",
              "    element.style[key] = styleAttributes[key];\n",
              "  }\n",
              "  return element;\n",
              "}\n",
              "\n",
              "// Max number of bytes which will be uploaded at a time.\n",
              "const MAX_PAYLOAD_SIZE = 100 * 1024;\n",
              "\n",
              "function _uploadFiles(inputId, outputId) {\n",
              "  const steps = uploadFilesStep(inputId, outputId);\n",
              "  const outputElement = document.getElementById(outputId);\n",
              "  // Cache steps on the outputElement to make it available for the next call\n",
              "  // to uploadFilesContinue from Python.\n",
              "  outputElement.steps = steps;\n",
              "\n",
              "  return _uploadFilesContinue(outputId);\n",
              "}\n",
              "\n",
              "// This is roughly an async generator (not supported in the browser yet),\n",
              "// where there are multiple asynchronous steps and the Python side is going\n",
              "// to poll for completion of each step.\n",
              "// This uses a Promise to block the python side on completion of each step,\n",
              "// then passes the result of the previous step as the input to the next step.\n",
              "function _uploadFilesContinue(outputId) {\n",
              "  const outputElement = document.getElementById(outputId);\n",
              "  const steps = outputElement.steps;\n",
              "\n",
              "  const next = steps.next(outputElement.lastPromiseValue);\n",
              "  return Promise.resolve(next.value.promise).then((value) => {\n",
              "    // Cache the last promise value to make it available to the next\n",
              "    // step of the generator.\n",
              "    outputElement.lastPromiseValue = value;\n",
              "    return next.value.response;\n",
              "  });\n",
              "}\n",
              "\n",
              "/**\n",
              " * Generator function which is called between each async step of the upload\n",
              " * process.\n",
              " * @param {string} inputId Element ID of the input file picker element.\n",
              " * @param {string} outputId Element ID of the output display.\n",
              " * @return {!Iterable<!Object>} Iterable of next steps.\n",
              " */\n",
              "function* uploadFilesStep(inputId, outputId) {\n",
              "  const inputElement = document.getElementById(inputId);\n",
              "  inputElement.disabled = false;\n",
              "\n",
              "  const outputElement = document.getElementById(outputId);\n",
              "  outputElement.innerHTML = '';\n",
              "\n",
              "  const pickedPromise = new Promise((resolve) => {\n",
              "    inputElement.addEventListener('change', (e) => {\n",
              "      resolve(e.target.files);\n",
              "    });\n",
              "  });\n",
              "\n",
              "  const cancel = document.createElement('button');\n",
              "  inputElement.parentElement.appendChild(cancel);\n",
              "  cancel.textContent = 'Cancel upload';\n",
              "  const cancelPromise = new Promise((resolve) => {\n",
              "    cancel.onclick = () => {\n",
              "      resolve(null);\n",
              "    };\n",
              "  });\n",
              "\n",
              "  // Wait for the user to pick the files.\n",
              "  const files = yield {\n",
              "    promise: Promise.race([pickedPromise, cancelPromise]),\n",
              "    response: {\n",
              "      action: 'starting',\n",
              "    }\n",
              "  };\n",
              "\n",
              "  cancel.remove();\n",
              "\n",
              "  // Disable the input element since further picks are not allowed.\n",
              "  inputElement.disabled = true;\n",
              "\n",
              "  if (!files) {\n",
              "    return {\n",
              "      response: {\n",
              "        action: 'complete',\n",
              "      }\n",
              "    };\n",
              "  }\n",
              "\n",
              "  for (const file of files) {\n",
              "    const li = document.createElement('li');\n",
              "    li.append(span(file.name, {fontWeight: 'bold'}));\n",
              "    li.append(span(\n",
              "        `(${file.type || 'n/a'}) - ${file.size} bytes, ` +\n",
              "        `last modified: ${\n",
              "            file.lastModifiedDate ? file.lastModifiedDate.toLocaleDateString() :\n",
              "                                    'n/a'} - `));\n",
              "    const percent = span('0% done');\n",
              "    li.appendChild(percent);\n",
              "\n",
              "    outputElement.appendChild(li);\n",
              "\n",
              "    const fileDataPromise = new Promise((resolve) => {\n",
              "      const reader = new FileReader();\n",
              "      reader.onload = (e) => {\n",
              "        resolve(e.target.result);\n",
              "      };\n",
              "      reader.readAsArrayBuffer(file);\n",
              "    });\n",
              "    // Wait for the data to be ready.\n",
              "    let fileData = yield {\n",
              "      promise: fileDataPromise,\n",
              "      response: {\n",
              "        action: 'continue',\n",
              "      }\n",
              "    };\n",
              "\n",
              "    // Use a chunked sending to avoid message size limits. See b/62115660.\n",
              "    let position = 0;\n",
              "    do {\n",
              "      const length = Math.min(fileData.byteLength - position, MAX_PAYLOAD_SIZE);\n",
              "      const chunk = new Uint8Array(fileData, position, length);\n",
              "      position += length;\n",
              "\n",
              "      const base64 = btoa(String.fromCharCode.apply(null, chunk));\n",
              "      yield {\n",
              "        response: {\n",
              "          action: 'append',\n",
              "          file: file.name,\n",
              "          data: base64,\n",
              "        },\n",
              "      };\n",
              "\n",
              "      let percentDone = fileData.byteLength === 0 ?\n",
              "          100 :\n",
              "          Math.round((position / fileData.byteLength) * 100);\n",
              "      percent.textContent = `${percentDone}% done`;\n",
              "\n",
              "    } while (position < fileData.byteLength);\n",
              "  }\n",
              "\n",
              "  // All done.\n",
              "  yield {\n",
              "    response: {\n",
              "      action: 'complete',\n",
              "    }\n",
              "  };\n",
              "}\n",
              "\n",
              "scope.google = scope.google || {};\n",
              "scope.google.colab = scope.google.colab || {};\n",
              "scope.google.colab._files = {\n",
              "  _uploadFiles,\n",
              "  _uploadFilesContinue,\n",
              "};\n",
              "})(self);\n",
              "</script> "
            ]
          },
          "metadata": {}
        },
        {
          "output_type": "stream",
          "name": "stdout",
          "text": [
            "Saving lemonade_images.zip to uploaded_files/lemonade_images.zip\n",
            "Saving logcat.txt to uploaded_files/logcat.txt\n",
            "Saving Oniket prantor অনিকেত প্রান্তর  Artcell  Tobu ei deyaler shorire  duto manchitro by artcell.m4a to uploaded_files/Oniket prantor অনিকেত প্রান্তর  Artcell  Tobu ei deyaler shorire  duto manchitro by artcell.m4a\n",
            "Saving Simple.odp to uploaded_files/Simple.odp\n",
            "Saving trend_icon.png to uploaded_files/trend_icon.png\n"
          ]
        }
      ]
    },
    {
      "cell_type": "code",
      "source": [
        " # @title 1.0 Zips multiple files into a single zip archive.\n",
        "\n",
        "def zip_files(file_paths, zip_filename, ziped_out_dir):\n",
        "  \"\"\"\n",
        "  Zips multiple files into a single zip archive.\n",
        "\n",
        "  Args:\n",
        "    file_paths: A list of file paths to be zipped.\n",
        "    zip_filename: The name of the output zip file (including .zip extension).\n",
        "    ziped_out_dir: The directory where the zip file will be saved.\n",
        "  \"\"\"\n",
        "  try:\n",
        "    if not zip_filename.endswith(\".zip\"):\n",
        "      zip_filename = zip_filename + \".zip\"\n",
        "\n",
        "    full_zip_path = os.path.join(ziped_out_dir, zip_filename)\n",
        "    os.makedirs(ziped_out_dir, exist_ok=True)\n",
        "\n",
        "    with zipfile.ZipFile(full_zip_path, 'w', zipfile.ZIP_DEFLATED) as zipf:\n",
        "      for file_path in file_paths:\n",
        "        if os.path.exists(file_path):\n",
        "          zipf.write(file_path, arcname=os.path.basename(file_path))\n",
        "        else:\n",
        "          print(f\"Warning: File not found: {file_path}\")\n",
        "    print(f\"Successfully created {full_zip_path}\")\n",
        "    return full_zip_path\n",
        "\n",
        "  except FileNotFoundError:\n",
        "    print(f\"Error: One or more files not found.\")\n",
        "  except Exception as e:\n",
        "    print(f\"An error occurred: {e}\")\n",
        "\n",
        "\n",
        "\n",
        "# Example Usage:\n",
        "if file_paths:\n",
        "  zip_filename = input(\"Enter zip name: \")\n",
        "\n",
        "  if not zip_filename or zip_filename==\"\":\n",
        "    zip_filename = \"my_archive.zip\"\n",
        "\n",
        "  zipped_out_dir =  \"zipped_out_dir\"\n",
        "  full_zip_path = zip_files(file_paths, zip_filename, zipped_out_dir)\n",
        "\n",
        "else:\n",
        "  print(\"No files selected.\")"
      ],
      "metadata": {
        "colab": {
          "base_uri": "https://localhost:8080/"
        },
        "id": "UNnSaphV4jNq",
        "outputId": "004cf5d4-c90f-43a5-8ceb-a1ef22e8dfc6",
        "cellView": "form"
      },
      "execution_count": 6,
      "outputs": [
        {
          "output_type": "stream",
          "name": "stdout",
          "text": [
            "Enter zip name: \n",
            "Successfully created zipped_out_dir/my_archive.zip\n"
          ]
        }
      ]
    },
    {
      "cell_type": "code",
      "source": [
        "# @title 2.0 Converts a zip file to a base64 encoded string.\n",
        "\n",
        "def zip_to_base64(zip_filename):\n",
        "    \"\"\"Converts a zip file to a base64 encoded string.\"\"\"\n",
        "    try:\n",
        "        with open(zip_filename, \"rb\") as zip_file:\n",
        "            zip_data = zip_file.read()\n",
        "        encoded_zip = base64.b64encode(zip_data).decode('utf-8')\n",
        "        return encoded_zip\n",
        "    except FileNotFoundError:\n",
        "        print(f\"Error: Zip file not found: {zip_filename}\")\n",
        "        return None\n",
        "    except Exception as e:\n",
        "        print(f\"An error occurred: {e}\")\n",
        "        return None"
      ],
      "metadata": {
        "id": "OKz4vCHp4q8U",
        "cellView": "form"
      },
      "execution_count": 7,
      "outputs": []
    },
    {
      "cell_type": "code",
      "source": [
        "# Example usage with file selection:\n",
        "zip_to_base64_text = zip_to_base64(full_zip_path)\n",
        "print(len(zip_to_base64_text))\n",
        "zip_to_base64_text[:50]"
      ],
      "metadata": {
        "colab": {
          "base_uri": "https://localhost:8080/",
          "height": 55
        },
        "id": "IpKU_YPSJm6P",
        "outputId": "a0aa92aa-f10b-4336-b648-d7056b6e50d1"
      },
      "execution_count": 8,
      "outputs": [
        {
          "output_type": "stream",
          "name": "stdout",
          "text": [
            "5009180\n"
          ]
        },
        {
          "output_type": "execute_result",
          "data": {
            "text/plain": [
              "'UEsDBBQAAAAIAHmDYVoMojKBOCcAAKMpAAATAAAAbGVtb25hZG'"
            ],
            "application/vnd.google.colaboratory.intrinsic+json": {
              "type": "string"
            }
          },
          "metadata": {},
          "execution_count": 8
        }
      ]
    },
    {
      "cell_type": "code",
      "source": [
        "# @title  2.1 Converts a base64 into its binary representation.\n",
        "\n",
        "def base64_to_binary(base64_string):\n",
        "    \"\"\"Converts a base64 encoded string to its binary representation.\"\"\"\n",
        "    try:\n",
        "        decoded_bytes = base64.b64decode(base64_string)\n",
        "        binary_string = ''.join(format(byte, '08b') for byte in decoded_bytes)\n",
        "        return binary_string\n",
        "    except Exception as e:\n",
        "        print(f\"An error occurred: {e}\")\n",
        "        return None"
      ],
      "metadata": {
        "id": "gD3-A8u3UIsH",
        "cellView": "form"
      },
      "execution_count": 9,
      "outputs": []
    },
    {
      "cell_type": "code",
      "source": [
        "# Example usage with file selection:\n",
        "base64_to_binary_text = base64_to_binary(zip_to_base64_text)\n",
        "print(len(base64_to_binary_text))\n",
        "base64_to_binary_text[:50]"
      ],
      "metadata": {
        "colab": {
          "base_uri": "https://localhost:8080/",
          "height": 55
        },
        "id": "CU9n4izJJ5wN",
        "outputId": "c8f0a71e-3492-483c-83d9-347e5ca2a5f3"
      },
      "execution_count": 10,
      "outputs": [
        {
          "output_type": "stream",
          "name": "stdout",
          "text": [
            "30055072\n"
          ]
        },
        {
          "output_type": "execute_result",
          "data": {
            "text/plain": [
              "'01010000010010110000001100000100000101000000000000'"
            ],
            "application/vnd.google.colaboratory.intrinsic+json": {
              "type": "string"
            }
          },
          "metadata": {},
          "execution_count": 10
        }
      ]
    },
    {
      "cell_type": "code",
      "source": [
        "# @title 3.0 Pre-Calculations\n",
        "\n",
        "# Frame Shape FS = width*height*channels\n",
        "width, height, channels = 255, 255, 1\n",
        "FS = width*height*channels\n",
        "print(\"\\nFrame Shape (FS) = width(255)*height(255)*channels(1) : \", FS)\n",
        "\n",
        "# Single Frame Size in Pixels (SFSP) = ((steps*width)*(steps*height))* channels\n",
        "# steps/grid is the size of each squre shaped pixels in our generated frames\n",
        "steps=3\n",
        "print(\"\\nSteps/Grid size sat to: \",steps)\n",
        "\n",
        "width*=steps\n",
        "print(\"\\tnew width = width*steps: \",width)\n",
        "height*=steps\n",
        "print(\"\\tnew height = height*steps: \",height)\n",
        "\n",
        "FS = width*height*channels\n",
        "print(\"\\nNew Frame Shape (FS) will be: ((steps*width)*(steps*height))* channels : \", FS)\n",
        "\n",
        "# SFSP=((steps*width)*(steps*height))*channels\n",
        "# print(\"\\nSingle Frame Size in Pixels (SFSP) = ((steps*width)*(steps*height))* channels : \", SFSP)\n",
        "\n",
        "SFC = FS/(steps*steps)\n",
        "print(\"\\nSingle Frame Capacity (SFC) = FS / (steps*steps) : \", SFC)\n",
        "\n",
        "# ---------------------------------------------\n",
        "#\n",
        "print(\"\\nLength of our string when, base64  : \", len(zip_to_base64_text))\n",
        "print(\"Length of our string when, binary : \", len(base64_to_binary_text))\n",
        "print(\"\\tLength diffrence between base64 and binary: \",(len(zip_to_base64_text)-len(base64_to_binary_text)))\n",
        "\n",
        "\n",
        "DS = len(base64_to_binary_text)\n",
        "print(\"\\nData Size / length of binary_string: (DS): \" ,DS )\n",
        "\n",
        "# Frames Number or to be generate (FN)=  DS/SFC\n",
        "FN =  DS/SFC\n",
        "print(\"\\nFrames Number or to be generate (FN) =  DS/SFC : \" ,FN)\n",
        "if FN%2 != 0:\n",
        "  FN = int(FN)+1\n",
        "else:\n",
        "  FN = int(FN)\n",
        "print(\"\\nFN cant be fruction/float >>>> FN = int(FN)+1 \")\n",
        "print(\"\\nFrames Number or to be generate (FN) =  DS/SFC : \" ,FN)\n",
        "\n",
        "\n"
      ],
      "metadata": {
        "id": "m4cFXw6sXw_3",
        "colab": {
          "base_uri": "https://localhost:8080/"
        },
        "outputId": "7d70fd4c-debf-4dab-cd58-ab048060e01e",
        "cellView": "form"
      },
      "execution_count": 11,
      "outputs": [
        {
          "output_type": "stream",
          "name": "stdout",
          "text": [
            "\n",
            "Frame Shape (FS) = width(255)*height(255)*channels(1) :  65025\n",
            "\n",
            "Steps/Grid size sat to:  3\n",
            "\tnew width = width*steps:  765\n",
            "\tnew height = height*steps:  765\n",
            "\n",
            "New Frame Shape (FS) will be: ((steps*width)*(steps*height))* channels :  585225\n",
            "\n",
            "Single Frame Capacity (SFC) = FS / (steps*steps) :  65025.0\n",
            "\n",
            "Length of our string when, base64  :  5009180\n",
            "Length of our string when, binary :  30055072\n",
            "\tLength diffrence between base64 and binary:  -25045892\n",
            "\n",
            "Data Size / length of binary_string: (DS):  30055072\n",
            "\n",
            "Frames Number or to be generate (FN) =  DS/SFC :  462.2079507881584\n",
            "\n",
            "FN cant be fruction/float >>>> FN = int(FN)+1 \n",
            "\n",
            "Frames Number or to be generate (FN) =  DS/SFC :  463\n"
          ]
        }
      ]
    },
    {
      "cell_type": "code",
      "source": [
        "import numpy as np\n",
        "\n",
        "def create_grayscale_images_from_binary_string(binary_string, width, height, max_pixels_per_image, output_folder=\"output_images\"):\n",
        "  \"\"\"\n",
        " # @title 4.0 Generate multiple grayscale images from a binary string and store sequencely to a specific folder.\n",
        "\n",
        "  Args:\n",
        "    binary_string: The input binary string.\n",
        "    width: The desired width of each image.\n",
        "    height: The desired height of each image.\n",
        "    max_pixels_per_image: The maximum number of pixels per image.\n",
        "    output_folder: The name of the output folder.\n",
        "\n",
        "  Returns:\n",
        "    A list of filenames of the generated images.\n",
        "  \"\"\"\n",
        "\n",
        "  os.makedirs(output_folder, exist_ok=True)  # Create output folder if it doesn't exist\n",
        "  image_filenames = []\n",
        "  image_count = 0\n",
        "\n",
        "  while binary_string:\n",
        "    image_name = os.path.join(output_folder, f\"binary_image_{image_count:03d}.png\")\n",
        "    img = Image.new('L', (width, height), color=255)  # Create a new grayscale image\n",
        "    pixels_to_process = min(max_pixels_per_image, len(binary_string))\n",
        "\n",
        "    # Efficiently process pixels using a 1D array\n",
        "    image_data = np.zeros((height, width), dtype=np.uint8)\n",
        "    for i in range(pixels_to_process):\n",
        "      if binary_string[i] == '0':\n",
        "        image_data[i // width, i % width] = 0\n",
        "      elif binary_string[i] == '1':\n",
        "        image_data[i // width, i % width] = 255\n",
        "\n",
        "    # Set pixels in the image using the efficient array\n",
        "    img.putdata(image_data.flatten())\n",
        "\n",
        "    img.save(image_name)\n",
        "    image_filenames.append(image_name)\n",
        "    image_count += 1\n",
        "\n",
        "    binary_string = binary_string[pixels_to_process:]\n",
        "\n",
        "  return image_filenames\n",
        "\n",
        "\n",
        "# Example usage\n",
        "# print(\"width = \",width)\n",
        "# print(\"height = \",height)\n",
        "# print(\"step = \",step)\n",
        "# max_pixels_per_image=FS\n",
        "# print(\"max_pixels_per_image = \",max_pixels_per_image)\n",
        "\n",
        "image_filenames = create_grayscale_images_from_binary_string(base64_to_binary_text, 255, 255, 255*255)\n",
        "print(f\"\\nGenerated image files length: {len(image_filenames)}\")\n",
        "print(f\"Generated image files: { image_filenames}\")"
      ],
      "metadata": {
        "colab": {
          "base_uri": "https://localhost:8080/"
        },
        "id": "NZtqpLd2lG6y",
        "outputId": "efb14431-c51a-4902-8b08-2b379fc9be4f"
      },
      "execution_count": 12,
      "outputs": [
        {
          "output_type": "stream",
          "name": "stdout",
          "text": [
            "\n",
            "Generated image files length: 463\n",
            "Generated image files: ['output_images/binary_image_000.png', 'output_images/binary_image_001.png', 'output_images/binary_image_002.png', 'output_images/binary_image_003.png', 'output_images/binary_image_004.png', 'output_images/binary_image_005.png', 'output_images/binary_image_006.png', 'output_images/binary_image_007.png', 'output_images/binary_image_008.png', 'output_images/binary_image_009.png', 'output_images/binary_image_010.png', 'output_images/binary_image_011.png', 'output_images/binary_image_012.png', 'output_images/binary_image_013.png', 'output_images/binary_image_014.png', 'output_images/binary_image_015.png', 'output_images/binary_image_016.png', 'output_images/binary_image_017.png', 'output_images/binary_image_018.png', 'output_images/binary_image_019.png', 'output_images/binary_image_020.png', 'output_images/binary_image_021.png', 'output_images/binary_image_022.png', 'output_images/binary_image_023.png', 'output_images/binary_image_024.png', 'output_images/binary_image_025.png', 'output_images/binary_image_026.png', 'output_images/binary_image_027.png', 'output_images/binary_image_028.png', 'output_images/binary_image_029.png', 'output_images/binary_image_030.png', 'output_images/binary_image_031.png', 'output_images/binary_image_032.png', 'output_images/binary_image_033.png', 'output_images/binary_image_034.png', 'output_images/binary_image_035.png', 'output_images/binary_image_036.png', 'output_images/binary_image_037.png', 'output_images/binary_image_038.png', 'output_images/binary_image_039.png', 'output_images/binary_image_040.png', 'output_images/binary_image_041.png', 'output_images/binary_image_042.png', 'output_images/binary_image_043.png', 'output_images/binary_image_044.png', 'output_images/binary_image_045.png', 'output_images/binary_image_046.png', 'output_images/binary_image_047.png', 'output_images/binary_image_048.png', 'output_images/binary_image_049.png', 'output_images/binary_image_050.png', 'output_images/binary_image_051.png', 'output_images/binary_image_052.png', 'output_images/binary_image_053.png', 'output_images/binary_image_054.png', 'output_images/binary_image_055.png', 'output_images/binary_image_056.png', 'output_images/binary_image_057.png', 'output_images/binary_image_058.png', 'output_images/binary_image_059.png', 'output_images/binary_image_060.png', 'output_images/binary_image_061.png', 'output_images/binary_image_062.png', 'output_images/binary_image_063.png', 'output_images/binary_image_064.png', 'output_images/binary_image_065.png', 'output_images/binary_image_066.png', 'output_images/binary_image_067.png', 'output_images/binary_image_068.png', 'output_images/binary_image_069.png', 'output_images/binary_image_070.png', 'output_images/binary_image_071.png', 'output_images/binary_image_072.png', 'output_images/binary_image_073.png', 'output_images/binary_image_074.png', 'output_images/binary_image_075.png', 'output_images/binary_image_076.png', 'output_images/binary_image_077.png', 'output_images/binary_image_078.png', 'output_images/binary_image_079.png', 'output_images/binary_image_080.png', 'output_images/binary_image_081.png', 'output_images/binary_image_082.png', 'output_images/binary_image_083.png', 'output_images/binary_image_084.png', 'output_images/binary_image_085.png', 'output_images/binary_image_086.png', 'output_images/binary_image_087.png', 'output_images/binary_image_088.png', 'output_images/binary_image_089.png', 'output_images/binary_image_090.png', 'output_images/binary_image_091.png', 'output_images/binary_image_092.png', 'output_images/binary_image_093.png', 'output_images/binary_image_094.png', 'output_images/binary_image_095.png', 'output_images/binary_image_096.png', 'output_images/binary_image_097.png', 'output_images/binary_image_098.png', 'output_images/binary_image_099.png', 'output_images/binary_image_100.png', 'output_images/binary_image_101.png', 'output_images/binary_image_102.png', 'output_images/binary_image_103.png', 'output_images/binary_image_104.png', 'output_images/binary_image_105.png', 'output_images/binary_image_106.png', 'output_images/binary_image_107.png', 'output_images/binary_image_108.png', 'output_images/binary_image_109.png', 'output_images/binary_image_110.png', 'output_images/binary_image_111.png', 'output_images/binary_image_112.png', 'output_images/binary_image_113.png', 'output_images/binary_image_114.png', 'output_images/binary_image_115.png', 'output_images/binary_image_116.png', 'output_images/binary_image_117.png', 'output_images/binary_image_118.png', 'output_images/binary_image_119.png', 'output_images/binary_image_120.png', 'output_images/binary_image_121.png', 'output_images/binary_image_122.png', 'output_images/binary_image_123.png', 'output_images/binary_image_124.png', 'output_images/binary_image_125.png', 'output_images/binary_image_126.png', 'output_images/binary_image_127.png', 'output_images/binary_image_128.png', 'output_images/binary_image_129.png', 'output_images/binary_image_130.png', 'output_images/binary_image_131.png', 'output_images/binary_image_132.png', 'output_images/binary_image_133.png', 'output_images/binary_image_134.png', 'output_images/binary_image_135.png', 'output_images/binary_image_136.png', 'output_images/binary_image_137.png', 'output_images/binary_image_138.png', 'output_images/binary_image_139.png', 'output_images/binary_image_140.png', 'output_images/binary_image_141.png', 'output_images/binary_image_142.png', 'output_images/binary_image_143.png', 'output_images/binary_image_144.png', 'output_images/binary_image_145.png', 'output_images/binary_image_146.png', 'output_images/binary_image_147.png', 'output_images/binary_image_148.png', 'output_images/binary_image_149.png', 'output_images/binary_image_150.png', 'output_images/binary_image_151.png', 'output_images/binary_image_152.png', 'output_images/binary_image_153.png', 'output_images/binary_image_154.png', 'output_images/binary_image_155.png', 'output_images/binary_image_156.png', 'output_images/binary_image_157.png', 'output_images/binary_image_158.png', 'output_images/binary_image_159.png', 'output_images/binary_image_160.png', 'output_images/binary_image_161.png', 'output_images/binary_image_162.png', 'output_images/binary_image_163.png', 'output_images/binary_image_164.png', 'output_images/binary_image_165.png', 'output_images/binary_image_166.png', 'output_images/binary_image_167.png', 'output_images/binary_image_168.png', 'output_images/binary_image_169.png', 'output_images/binary_image_170.png', 'output_images/binary_image_171.png', 'output_images/binary_image_172.png', 'output_images/binary_image_173.png', 'output_images/binary_image_174.png', 'output_images/binary_image_175.png', 'output_images/binary_image_176.png', 'output_images/binary_image_177.png', 'output_images/binary_image_178.png', 'output_images/binary_image_179.png', 'output_images/binary_image_180.png', 'output_images/binary_image_181.png', 'output_images/binary_image_182.png', 'output_images/binary_image_183.png', 'output_images/binary_image_184.png', 'output_images/binary_image_185.png', 'output_images/binary_image_186.png', 'output_images/binary_image_187.png', 'output_images/binary_image_188.png', 'output_images/binary_image_189.png', 'output_images/binary_image_190.png', 'output_images/binary_image_191.png', 'output_images/binary_image_192.png', 'output_images/binary_image_193.png', 'output_images/binary_image_194.png', 'output_images/binary_image_195.png', 'output_images/binary_image_196.png', 'output_images/binary_image_197.png', 'output_images/binary_image_198.png', 'output_images/binary_image_199.png', 'output_images/binary_image_200.png', 'output_images/binary_image_201.png', 'output_images/binary_image_202.png', 'output_images/binary_image_203.png', 'output_images/binary_image_204.png', 'output_images/binary_image_205.png', 'output_images/binary_image_206.png', 'output_images/binary_image_207.png', 'output_images/binary_image_208.png', 'output_images/binary_image_209.png', 'output_images/binary_image_210.png', 'output_images/binary_image_211.png', 'output_images/binary_image_212.png', 'output_images/binary_image_213.png', 'output_images/binary_image_214.png', 'output_images/binary_image_215.png', 'output_images/binary_image_216.png', 'output_images/binary_image_217.png', 'output_images/binary_image_218.png', 'output_images/binary_image_219.png', 'output_images/binary_image_220.png', 'output_images/binary_image_221.png', 'output_images/binary_image_222.png', 'output_images/binary_image_223.png', 'output_images/binary_image_224.png', 'output_images/binary_image_225.png', 'output_images/binary_image_226.png', 'output_images/binary_image_227.png', 'output_images/binary_image_228.png', 'output_images/binary_image_229.png', 'output_images/binary_image_230.png', 'output_images/binary_image_231.png', 'output_images/binary_image_232.png', 'output_images/binary_image_233.png', 'output_images/binary_image_234.png', 'output_images/binary_image_235.png', 'output_images/binary_image_236.png', 'output_images/binary_image_237.png', 'output_images/binary_image_238.png', 'output_images/binary_image_239.png', 'output_images/binary_image_240.png', 'output_images/binary_image_241.png', 'output_images/binary_image_242.png', 'output_images/binary_image_243.png', 'output_images/binary_image_244.png', 'output_images/binary_image_245.png', 'output_images/binary_image_246.png', 'output_images/binary_image_247.png', 'output_images/binary_image_248.png', 'output_images/binary_image_249.png', 'output_images/binary_image_250.png', 'output_images/binary_image_251.png', 'output_images/binary_image_252.png', 'output_images/binary_image_253.png', 'output_images/binary_image_254.png', 'output_images/binary_image_255.png', 'output_images/binary_image_256.png', 'output_images/binary_image_257.png', 'output_images/binary_image_258.png', 'output_images/binary_image_259.png', 'output_images/binary_image_260.png', 'output_images/binary_image_261.png', 'output_images/binary_image_262.png', 'output_images/binary_image_263.png', 'output_images/binary_image_264.png', 'output_images/binary_image_265.png', 'output_images/binary_image_266.png', 'output_images/binary_image_267.png', 'output_images/binary_image_268.png', 'output_images/binary_image_269.png', 'output_images/binary_image_270.png', 'output_images/binary_image_271.png', 'output_images/binary_image_272.png', 'output_images/binary_image_273.png', 'output_images/binary_image_274.png', 'output_images/binary_image_275.png', 'output_images/binary_image_276.png', 'output_images/binary_image_277.png', 'output_images/binary_image_278.png', 'output_images/binary_image_279.png', 'output_images/binary_image_280.png', 'output_images/binary_image_281.png', 'output_images/binary_image_282.png', 'output_images/binary_image_283.png', 'output_images/binary_image_284.png', 'output_images/binary_image_285.png', 'output_images/binary_image_286.png', 'output_images/binary_image_287.png', 'output_images/binary_image_288.png', 'output_images/binary_image_289.png', 'output_images/binary_image_290.png', 'output_images/binary_image_291.png', 'output_images/binary_image_292.png', 'output_images/binary_image_293.png', 'output_images/binary_image_294.png', 'output_images/binary_image_295.png', 'output_images/binary_image_296.png', 'output_images/binary_image_297.png', 'output_images/binary_image_298.png', 'output_images/binary_image_299.png', 'output_images/binary_image_300.png', 'output_images/binary_image_301.png', 'output_images/binary_image_302.png', 'output_images/binary_image_303.png', 'output_images/binary_image_304.png', 'output_images/binary_image_305.png', 'output_images/binary_image_306.png', 'output_images/binary_image_307.png', 'output_images/binary_image_308.png', 'output_images/binary_image_309.png', 'output_images/binary_image_310.png', 'output_images/binary_image_311.png', 'output_images/binary_image_312.png', 'output_images/binary_image_313.png', 'output_images/binary_image_314.png', 'output_images/binary_image_315.png', 'output_images/binary_image_316.png', 'output_images/binary_image_317.png', 'output_images/binary_image_318.png', 'output_images/binary_image_319.png', 'output_images/binary_image_320.png', 'output_images/binary_image_321.png', 'output_images/binary_image_322.png', 'output_images/binary_image_323.png', 'output_images/binary_image_324.png', 'output_images/binary_image_325.png', 'output_images/binary_image_326.png', 'output_images/binary_image_327.png', 'output_images/binary_image_328.png', 'output_images/binary_image_329.png', 'output_images/binary_image_330.png', 'output_images/binary_image_331.png', 'output_images/binary_image_332.png', 'output_images/binary_image_333.png', 'output_images/binary_image_334.png', 'output_images/binary_image_335.png', 'output_images/binary_image_336.png', 'output_images/binary_image_337.png', 'output_images/binary_image_338.png', 'output_images/binary_image_339.png', 'output_images/binary_image_340.png', 'output_images/binary_image_341.png', 'output_images/binary_image_342.png', 'output_images/binary_image_343.png', 'output_images/binary_image_344.png', 'output_images/binary_image_345.png', 'output_images/binary_image_346.png', 'output_images/binary_image_347.png', 'output_images/binary_image_348.png', 'output_images/binary_image_349.png', 'output_images/binary_image_350.png', 'output_images/binary_image_351.png', 'output_images/binary_image_352.png', 'output_images/binary_image_353.png', 'output_images/binary_image_354.png', 'output_images/binary_image_355.png', 'output_images/binary_image_356.png', 'output_images/binary_image_357.png', 'output_images/binary_image_358.png', 'output_images/binary_image_359.png', 'output_images/binary_image_360.png', 'output_images/binary_image_361.png', 'output_images/binary_image_362.png', 'output_images/binary_image_363.png', 'output_images/binary_image_364.png', 'output_images/binary_image_365.png', 'output_images/binary_image_366.png', 'output_images/binary_image_367.png', 'output_images/binary_image_368.png', 'output_images/binary_image_369.png', 'output_images/binary_image_370.png', 'output_images/binary_image_371.png', 'output_images/binary_image_372.png', 'output_images/binary_image_373.png', 'output_images/binary_image_374.png', 'output_images/binary_image_375.png', 'output_images/binary_image_376.png', 'output_images/binary_image_377.png', 'output_images/binary_image_378.png', 'output_images/binary_image_379.png', 'output_images/binary_image_380.png', 'output_images/binary_image_381.png', 'output_images/binary_image_382.png', 'output_images/binary_image_383.png', 'output_images/binary_image_384.png', 'output_images/binary_image_385.png', 'output_images/binary_image_386.png', 'output_images/binary_image_387.png', 'output_images/binary_image_388.png', 'output_images/binary_image_389.png', 'output_images/binary_image_390.png', 'output_images/binary_image_391.png', 'output_images/binary_image_392.png', 'output_images/binary_image_393.png', 'output_images/binary_image_394.png', 'output_images/binary_image_395.png', 'output_images/binary_image_396.png', 'output_images/binary_image_397.png', 'output_images/binary_image_398.png', 'output_images/binary_image_399.png', 'output_images/binary_image_400.png', 'output_images/binary_image_401.png', 'output_images/binary_image_402.png', 'output_images/binary_image_403.png', 'output_images/binary_image_404.png', 'output_images/binary_image_405.png', 'output_images/binary_image_406.png', 'output_images/binary_image_407.png', 'output_images/binary_image_408.png', 'output_images/binary_image_409.png', 'output_images/binary_image_410.png', 'output_images/binary_image_411.png', 'output_images/binary_image_412.png', 'output_images/binary_image_413.png', 'output_images/binary_image_414.png', 'output_images/binary_image_415.png', 'output_images/binary_image_416.png', 'output_images/binary_image_417.png', 'output_images/binary_image_418.png', 'output_images/binary_image_419.png', 'output_images/binary_image_420.png', 'output_images/binary_image_421.png', 'output_images/binary_image_422.png', 'output_images/binary_image_423.png', 'output_images/binary_image_424.png', 'output_images/binary_image_425.png', 'output_images/binary_image_426.png', 'output_images/binary_image_427.png', 'output_images/binary_image_428.png', 'output_images/binary_image_429.png', 'output_images/binary_image_430.png', 'output_images/binary_image_431.png', 'output_images/binary_image_432.png', 'output_images/binary_image_433.png', 'output_images/binary_image_434.png', 'output_images/binary_image_435.png', 'output_images/binary_image_436.png', 'output_images/binary_image_437.png', 'output_images/binary_image_438.png', 'output_images/binary_image_439.png', 'output_images/binary_image_440.png', 'output_images/binary_image_441.png', 'output_images/binary_image_442.png', 'output_images/binary_image_443.png', 'output_images/binary_image_444.png', 'output_images/binary_image_445.png', 'output_images/binary_image_446.png', 'output_images/binary_image_447.png', 'output_images/binary_image_448.png', 'output_images/binary_image_449.png', 'output_images/binary_image_450.png', 'output_images/binary_image_451.png', 'output_images/binary_image_452.png', 'output_images/binary_image_453.png', 'output_images/binary_image_454.png', 'output_images/binary_image_455.png', 'output_images/binary_image_456.png', 'output_images/binary_image_457.png', 'output_images/binary_image_458.png', 'output_images/binary_image_459.png', 'output_images/binary_image_460.png', 'output_images/binary_image_461.png', 'output_images/binary_image_462.png']\n"
          ]
        }
      ]
    },
    {
      "cell_type": "code",
      "source": [
        "# @title OR 4.0 Creates N grayscale images from a binary string.\n",
        "\n",
        "step = steps # pixel grid size\n",
        "print(\"Step/Grid size is: \",step)\n",
        "\n",
        "def create_grayscale_images_from_binary_string(binary_string, width, height, max_pixels_per_image, output_folder):\n",
        "    \"\"\"\n",
        "    Creates multiple grayscale images from a binary string.\n",
        "\n",
        "    Args:\n",
        "        binary_string: The binary string data.\n",
        "        width: Width of each image.\n",
        "        height: Height of each image.\n",
        "        max_pixels_per_image: Maximum number of pixels allowed per image.\n",
        "        output_folder: The folder to save the images to.\n",
        "\n",
        "    Returns:\n",
        "        A list of filenames of the generated images.\n",
        "    \"\"\"\n",
        "\n",
        "    os.makedirs(output_folder, exist_ok=True)  # Create output folder if it doesn't exist\n",
        "    image_filenames = []\n",
        "\n",
        "    image_count = 0\n",
        "    index = 0\n",
        "\n",
        "\n",
        "    while index < len(binary_string):\n",
        "        image_name = os.path.join(output_folder, f'binary_image_{image_count}.png')\n",
        "        img = Image.new('L', (width, height), color=128)\n",
        "        draw = ImageDraw.Draw(img)\n",
        "\n",
        "        for y in range(0, height, step):\n",
        "            for x in range(0, width, step):\n",
        "                if index < len(binary_string):\n",
        "                    color = 128\n",
        "\n",
        "                    if binary_string[index] == '0':\n",
        "                        color = 0\n",
        "                    elif binary_string[index] == '1':\n",
        "                        color = 255\n",
        "\n",
        "                    draw.rectangle([x, y, x + step - 1, y + step - 1], fill=color)\n",
        "                    index += 1\n",
        "                else:\n",
        "                    break  # Stop if we've reached the end of binary_string\n",
        "            else:\n",
        "                continue  # Continue if the inner loop wasn't broken\n",
        "            break  # Break the outer loop if the inner loop finished naturally\n",
        "\n",
        "        img.save(image_name)\n",
        "        image_filenames.append(image_name)\n",
        "        image_count += 1\n",
        "\n",
        "    return image_filenames\n",
        "\n"
      ],
      "metadata": {
        "id": "uB5q1Du_7rLK",
        "cellView": "form",
        "colab": {
          "base_uri": "https://localhost:8080/"
        },
        "outputId": "dcd6bd1f-efd8-4e98-c33e-779d285e808e"
      },
      "execution_count": null,
      "outputs": [
        {
          "output_type": "stream",
          "name": "stdout",
          "text": [
            "Step/Grid size is:  3\n"
          ]
        }
      ]
    },
    {
      "cell_type": "code",
      "source": [
        "# Example usage (assuming you have a binary string)\n",
        "# ... (your binary_string) ...\n",
        "print(\"width = \",width)\n",
        "print(\"height = \",height)\n",
        "print(\"step = \",step)\n",
        "max_pixels_per_image = FS\n",
        "print(\"max_pixels_per_image = \",max_pixels_per_image)\n",
        "\n",
        "output_folder=\"output_images_128\"\n",
        "print(\"output_folder = \",output_folder)\n",
        "\n",
        "image_filenames = create_grayscale_images_from_binary_string(base64_to_binary_text, width, height, max_pixels_per_image, output_folder)\n",
        "print(f\"Generated image files: {image_filenames}\")\n"
      ],
      "metadata": {
        "colab": {
          "base_uri": "https://localhost:8080/"
        },
        "id": "gmQlHlIDBBwI",
        "outputId": "f99c6a2f-d31f-433a-b689-367eeef416fa"
      },
      "execution_count": null,
      "outputs": [
        {
          "output_type": "stream",
          "name": "stdout",
          "text": [
            "width =  765\n",
            "height =  765\n",
            "step =  3\n",
            "max_pixels_per_image =  585225\n",
            "output_folder =  output_images_128\n",
            "Generated image files: ['output_images_128/binary_image_0.png']\n"
          ]
        }
      ]
    },
    {
      "cell_type": "code",
      "source": [
        "# @title 5.0 Generate a video (.mp4v) from a sequence of images.\n",
        "\n",
        "import cv2\n",
        "\n",
        "def create_video_from_images(image_folder, video_name, fps=24):\n",
        "    \"\"\"\n",
        "    Generates a video file from a sequence of images.\n",
        "\n",
        "    Args:\n",
        "        image_folder (str): Path to the folder containing the images.\n",
        "        video_name (str): Name of the output video file.\n",
        "        fps (int, optional): Frames per second for the video. Defaults to 24.\n",
        "    \"\"\"\n",
        "\n",
        "    images = [img for img in os.listdir(image_folder) if img.endswith((\".jpg\", \".jpeg\", \".png\"))]\n",
        "    images.sort()  # Ensure images are processed in the correct order\n",
        "\n",
        "    if not images:\n",
        "        print(f\"No images found in {image_folder}\")\n",
        "        return\n",
        "\n",
        "    frame = cv2.imread(os.path.join(image_folder, images[0]))\n",
        "    height, width, layers = frame.shape\n",
        "\n",
        "    fourcc = cv2.VideoWriter_fourcc(*'mp4v')  # Codec for MP4 format\n",
        "    video = cv2.VideoWriter(video_name, fourcc, fps, (width, height))\n",
        "\n",
        "    for image_path in images:\n",
        "        img = cv2.imread(os.path.join(image_folder, image_path))\n",
        "        video.write(img)\n",
        "\n",
        "    video.release()\n",
        "    print(f\"Video '{video_name}' created successfully!\")\n"
      ],
      "metadata": {
        "id": "mtVkp1gqEEYR"
      },
      "execution_count": 13,
      "outputs": []
    },
    {
      "cell_type": "code",
      "source": [
        "# Replace with the actual path to your images in Google Drive\n",
        "# image_folder = '/content/drive/MyDrive/Colab Notebooks/generated_images'\n",
        "# image_folder = output_folder\n",
        "image_folder = \"output_images\"\n",
        "\n",
        "# Replace with the desired name for your output video file\n",
        "# video_name = 'output_video.mp4\n",
        "video_name = 'output_video_new.mp4'\n",
        "\n",
        "create_video_from_images(image_folder, video_name, fps=24)"
      ],
      "metadata": {
        "colab": {
          "base_uri": "https://localhost:8080/"
        },
        "id": "i6bL_GYtGcz_",
        "outputId": "ad710234-fc18-467d-ca72-7d9ccea3a775"
      },
      "execution_count": 15,
      "outputs": [
        {
          "output_type": "stream",
          "name": "stdout",
          "text": [
            "Video 'output_video_new.mp4' created successfully!\n"
          ]
        }
      ]
    },
    {
      "cell_type": "markdown",
      "source": [
        "\n",
        "\n",
        "---\n",
        "\n",
        "\n",
        "\n",
        "--- Uploa and store Data as Video file---\n",
        "\n",
        "\n",
        "[Store on Youtube like services](https://www.youtube.com/@%E0%A6%86%E0%A6%AE%E0%A6%BF_%E0%A6%93_%E0%A6%86%E0%A6%AE%E0%A6%B0%E0%A6%BE)\n",
        "\n",
        "--- Download and decode our data/files---\n",
        "\n",
        "---\n",
        "\n"
      ],
      "metadata": {
        "id": "T5rwldZPF6sZ"
      }
    },
    {
      "cell_type": "code",
      "source": [
        "# @title 6.0 Extracts frames from a video file and saves them as PNG.\n",
        "\n",
        "import cv2\n",
        "import os\n",
        "\n",
        "def extract_frames_from_video(video_path, output_dir):\n",
        "  \"\"\"\n",
        "  Extracts frames from a video file and saves them as images.\n",
        "\n",
        "  Args:\n",
        "    video_path: Path to the video file.\n",
        "    output_dir: Path to the directory where the frames will be saved.\n",
        "  \"\"\"\n",
        "\n",
        "  try:\n",
        "    os.makedirs(output_dir, exist_ok=True)  # Create the output directory if it doesn't exist\n",
        "\n",
        "    vidcap = cv2.VideoCapture(video_path)\n",
        "    success, image = vidcap.read()\n",
        "    count = 0\n",
        "\n",
        "    while success:\n",
        "      frame_name = os.path.join(output_dir, f\"frame_{count:04d}.png\")  # Use 4-digit frame number for consistent naming\n",
        "      cv2.imwrite(frame_name, image)\n",
        "      success, image = vidcap.read()\n",
        "      count += 1\n",
        "\n",
        "    print(f\"Successfully extracted {count} frames to {output_dir}\")\n",
        "\n",
        "  except Exception as e:\n",
        "    print(f\"Error extracting frames: {e}\")\n",
        "\n"
      ],
      "metadata": {
        "id": "XWj4tU4XGYQl",
        "cellView": "form"
      },
      "execution_count": 16,
      "outputs": []
    },
    {
      "cell_type": "code",
      "source": [
        "# Example usage:\n",
        "# video_path = \"/content/drive/MyDrive/Colab Notebooks/test_data/21.15.50.01.mp4\"\n",
        "video_path = \"output_video_new.mp4\"\n",
        "output_dir = \"output_images_128_re-generated\"\n",
        "\n",
        "extract_frames_from_video(video_path, output_dir)"
      ],
      "metadata": {
        "colab": {
          "base_uri": "https://localhost:8080/"
        },
        "id": "yCnsHldIHOud",
        "outputId": "ab93d118-4832-4c22-c50a-2cd222fb234f"
      },
      "execution_count": 17,
      "outputs": [
        {
          "output_type": "stream",
          "name": "stdout",
          "text": [
            "Successfully extracted 463 frames to output_images_128_re-generated\n"
          ]
        }
      ]
    },
    {
      "cell_type": "code",
      "source": [
        "sorted_image_list[:10]"
      ],
      "metadata": {
        "colab": {
          "base_uri": "https://localhost:8080/"
        },
        "id": "eIXBG9FMvJm1",
        "outputId": "df49a16c-c7c7-451e-82d7-a02076167e4a"
      },
      "execution_count": 20,
      "outputs": [
        {
          "output_type": "execute_result",
          "data": {
            "text/plain": [
              "['/content/output_images_128_re-generated/frame_0000.png',\n",
              " '/content/output_images_128_re-generated/frame_0001.png',\n",
              " '/content/output_images_128_re-generated/frame_0002.png',\n",
              " '/content/output_images_128_re-generated/frame_0003.png',\n",
              " '/content/output_images_128_re-generated/frame_0004.png',\n",
              " '/content/output_images_128_re-generated/frame_0005.png',\n",
              " '/content/output_images_128_re-generated/frame_0006.png',\n",
              " '/content/output_images_128_re-generated/frame_0007.png',\n",
              " '/content/output_images_128_re-generated/frame_0008.png',\n",
              " '/content/output_images_128_re-generated/frame_0009.png']"
            ]
          },
          "metadata": {},
          "execution_count": 20
        }
      ]
    },
    {
      "cell_type": "code",
      "source": [
        "# @title  7.0 Reads all image file locations from a given directory and returns a sorted list of strings.\n",
        "\n",
        "def get_sorted_image_paths(directory):\n",
        "  \"\"\"\n",
        "  Reads all image file locations from a given directory and returns a sorted list of strings.\n",
        "\n",
        "  Args:\n",
        "    directory: The path to the directory containing the images.\n",
        "\n",
        "  Returns:\n",
        "    A sorted list of strings, where each string represents the full path to an image file.\n",
        "  \"\"\"\n",
        "  image_extensions = [\".jpg\", \".jpeg\", \".png\"]  # Add more extensions if needed\n",
        "  image_paths = []\n",
        "\n",
        "  for filename in sorted(os.listdir(directory)):\n",
        "      filepath = os.path.join(directory, filename)\n",
        "      if os.path.isfile(filepath) and any(filepath.lower().endswith(ext) for ext in image_extensions):\n",
        "          image_paths.append(filepath)\n",
        "\n",
        "  return image_paths\n",
        "\n",
        "# Example usage\n",
        "# image_dir = \"/path/to/your/image/directory\"  # Replace with the actual directory path\n",
        "sorted_image_list = get_sorted_image_paths(\"/content/output_images_128_re-generated\")\n",
        "print(len(sorted_image_list))\n",
        "print(sorted_image_list)"
      ],
      "metadata": {
        "colab": {
          "base_uri": "https://localhost:8080/"
        },
        "id": "5AHVGY18NS1P",
        "outputId": "a6756abf-3035-442f-c5aa-6f935e465e98",
        "cellView": "form"
      },
      "execution_count": 18,
      "outputs": [
        {
          "output_type": "stream",
          "name": "stdout",
          "text": [
            "463\n",
            "['/content/output_images_128_re-generated/frame_0000.png', '/content/output_images_128_re-generated/frame_0001.png', '/content/output_images_128_re-generated/frame_0002.png', '/content/output_images_128_re-generated/frame_0003.png', '/content/output_images_128_re-generated/frame_0004.png', '/content/output_images_128_re-generated/frame_0005.png', '/content/output_images_128_re-generated/frame_0006.png', '/content/output_images_128_re-generated/frame_0007.png', '/content/output_images_128_re-generated/frame_0008.png', '/content/output_images_128_re-generated/frame_0009.png', '/content/output_images_128_re-generated/frame_0010.png', '/content/output_images_128_re-generated/frame_0011.png', '/content/output_images_128_re-generated/frame_0012.png', '/content/output_images_128_re-generated/frame_0013.png', '/content/output_images_128_re-generated/frame_0014.png', '/content/output_images_128_re-generated/frame_0015.png', '/content/output_images_128_re-generated/frame_0016.png', '/content/output_images_128_re-generated/frame_0017.png', '/content/output_images_128_re-generated/frame_0018.png', '/content/output_images_128_re-generated/frame_0019.png', '/content/output_images_128_re-generated/frame_0020.png', '/content/output_images_128_re-generated/frame_0021.png', '/content/output_images_128_re-generated/frame_0022.png', '/content/output_images_128_re-generated/frame_0023.png', '/content/output_images_128_re-generated/frame_0024.png', '/content/output_images_128_re-generated/frame_0025.png', '/content/output_images_128_re-generated/frame_0026.png', '/content/output_images_128_re-generated/frame_0027.png', '/content/output_images_128_re-generated/frame_0028.png', '/content/output_images_128_re-generated/frame_0029.png', '/content/output_images_128_re-generated/frame_0030.png', '/content/output_images_128_re-generated/frame_0031.png', '/content/output_images_128_re-generated/frame_0032.png', '/content/output_images_128_re-generated/frame_0033.png', '/content/output_images_128_re-generated/frame_0034.png', '/content/output_images_128_re-generated/frame_0035.png', '/content/output_images_128_re-generated/frame_0036.png', '/content/output_images_128_re-generated/frame_0037.png', '/content/output_images_128_re-generated/frame_0038.png', '/content/output_images_128_re-generated/frame_0039.png', '/content/output_images_128_re-generated/frame_0040.png', '/content/output_images_128_re-generated/frame_0041.png', '/content/output_images_128_re-generated/frame_0042.png', '/content/output_images_128_re-generated/frame_0043.png', '/content/output_images_128_re-generated/frame_0044.png', '/content/output_images_128_re-generated/frame_0045.png', '/content/output_images_128_re-generated/frame_0046.png', '/content/output_images_128_re-generated/frame_0047.png', '/content/output_images_128_re-generated/frame_0048.png', '/content/output_images_128_re-generated/frame_0049.png', '/content/output_images_128_re-generated/frame_0050.png', '/content/output_images_128_re-generated/frame_0051.png', '/content/output_images_128_re-generated/frame_0052.png', '/content/output_images_128_re-generated/frame_0053.png', '/content/output_images_128_re-generated/frame_0054.png', '/content/output_images_128_re-generated/frame_0055.png', '/content/output_images_128_re-generated/frame_0056.png', '/content/output_images_128_re-generated/frame_0057.png', '/content/output_images_128_re-generated/frame_0058.png', '/content/output_images_128_re-generated/frame_0059.png', '/content/output_images_128_re-generated/frame_0060.png', '/content/output_images_128_re-generated/frame_0061.png', '/content/output_images_128_re-generated/frame_0062.png', '/content/output_images_128_re-generated/frame_0063.png', '/content/output_images_128_re-generated/frame_0064.png', '/content/output_images_128_re-generated/frame_0065.png', '/content/output_images_128_re-generated/frame_0066.png', '/content/output_images_128_re-generated/frame_0067.png', '/content/output_images_128_re-generated/frame_0068.png', '/content/output_images_128_re-generated/frame_0069.png', '/content/output_images_128_re-generated/frame_0070.png', '/content/output_images_128_re-generated/frame_0071.png', '/content/output_images_128_re-generated/frame_0072.png', '/content/output_images_128_re-generated/frame_0073.png', '/content/output_images_128_re-generated/frame_0074.png', '/content/output_images_128_re-generated/frame_0075.png', '/content/output_images_128_re-generated/frame_0076.png', '/content/output_images_128_re-generated/frame_0077.png', '/content/output_images_128_re-generated/frame_0078.png', '/content/output_images_128_re-generated/frame_0079.png', '/content/output_images_128_re-generated/frame_0080.png', '/content/output_images_128_re-generated/frame_0081.png', '/content/output_images_128_re-generated/frame_0082.png', '/content/output_images_128_re-generated/frame_0083.png', '/content/output_images_128_re-generated/frame_0084.png', '/content/output_images_128_re-generated/frame_0085.png', '/content/output_images_128_re-generated/frame_0086.png', '/content/output_images_128_re-generated/frame_0087.png', '/content/output_images_128_re-generated/frame_0088.png', '/content/output_images_128_re-generated/frame_0089.png', '/content/output_images_128_re-generated/frame_0090.png', '/content/output_images_128_re-generated/frame_0091.png', '/content/output_images_128_re-generated/frame_0092.png', '/content/output_images_128_re-generated/frame_0093.png', '/content/output_images_128_re-generated/frame_0094.png', '/content/output_images_128_re-generated/frame_0095.png', '/content/output_images_128_re-generated/frame_0096.png', '/content/output_images_128_re-generated/frame_0097.png', '/content/output_images_128_re-generated/frame_0098.png', '/content/output_images_128_re-generated/frame_0099.png', '/content/output_images_128_re-generated/frame_0100.png', '/content/output_images_128_re-generated/frame_0101.png', '/content/output_images_128_re-generated/frame_0102.png', '/content/output_images_128_re-generated/frame_0103.png', '/content/output_images_128_re-generated/frame_0104.png', '/content/output_images_128_re-generated/frame_0105.png', '/content/output_images_128_re-generated/frame_0106.png', '/content/output_images_128_re-generated/frame_0107.png', '/content/output_images_128_re-generated/frame_0108.png', '/content/output_images_128_re-generated/frame_0109.png', '/content/output_images_128_re-generated/frame_0110.png', '/content/output_images_128_re-generated/frame_0111.png', '/content/output_images_128_re-generated/frame_0112.png', '/content/output_images_128_re-generated/frame_0113.png', '/content/output_images_128_re-generated/frame_0114.png', '/content/output_images_128_re-generated/frame_0115.png', '/content/output_images_128_re-generated/frame_0116.png', '/content/output_images_128_re-generated/frame_0117.png', '/content/output_images_128_re-generated/frame_0118.png', '/content/output_images_128_re-generated/frame_0119.png', '/content/output_images_128_re-generated/frame_0120.png', '/content/output_images_128_re-generated/frame_0121.png', '/content/output_images_128_re-generated/frame_0122.png', '/content/output_images_128_re-generated/frame_0123.png', '/content/output_images_128_re-generated/frame_0124.png', '/content/output_images_128_re-generated/frame_0125.png', '/content/output_images_128_re-generated/frame_0126.png', '/content/output_images_128_re-generated/frame_0127.png', '/content/output_images_128_re-generated/frame_0128.png', '/content/output_images_128_re-generated/frame_0129.png', '/content/output_images_128_re-generated/frame_0130.png', '/content/output_images_128_re-generated/frame_0131.png', '/content/output_images_128_re-generated/frame_0132.png', '/content/output_images_128_re-generated/frame_0133.png', '/content/output_images_128_re-generated/frame_0134.png', '/content/output_images_128_re-generated/frame_0135.png', '/content/output_images_128_re-generated/frame_0136.png', '/content/output_images_128_re-generated/frame_0137.png', '/content/output_images_128_re-generated/frame_0138.png', '/content/output_images_128_re-generated/frame_0139.png', '/content/output_images_128_re-generated/frame_0140.png', '/content/output_images_128_re-generated/frame_0141.png', '/content/output_images_128_re-generated/frame_0142.png', '/content/output_images_128_re-generated/frame_0143.png', '/content/output_images_128_re-generated/frame_0144.png', '/content/output_images_128_re-generated/frame_0145.png', '/content/output_images_128_re-generated/frame_0146.png', '/content/output_images_128_re-generated/frame_0147.png', '/content/output_images_128_re-generated/frame_0148.png', '/content/output_images_128_re-generated/frame_0149.png', '/content/output_images_128_re-generated/frame_0150.png', '/content/output_images_128_re-generated/frame_0151.png', '/content/output_images_128_re-generated/frame_0152.png', '/content/output_images_128_re-generated/frame_0153.png', '/content/output_images_128_re-generated/frame_0154.png', '/content/output_images_128_re-generated/frame_0155.png', '/content/output_images_128_re-generated/frame_0156.png', '/content/output_images_128_re-generated/frame_0157.png', '/content/output_images_128_re-generated/frame_0158.png', '/content/output_images_128_re-generated/frame_0159.png', '/content/output_images_128_re-generated/frame_0160.png', '/content/output_images_128_re-generated/frame_0161.png', '/content/output_images_128_re-generated/frame_0162.png', '/content/output_images_128_re-generated/frame_0163.png', '/content/output_images_128_re-generated/frame_0164.png', '/content/output_images_128_re-generated/frame_0165.png', '/content/output_images_128_re-generated/frame_0166.png', '/content/output_images_128_re-generated/frame_0167.png', '/content/output_images_128_re-generated/frame_0168.png', '/content/output_images_128_re-generated/frame_0169.png', '/content/output_images_128_re-generated/frame_0170.png', '/content/output_images_128_re-generated/frame_0171.png', '/content/output_images_128_re-generated/frame_0172.png', '/content/output_images_128_re-generated/frame_0173.png', '/content/output_images_128_re-generated/frame_0174.png', '/content/output_images_128_re-generated/frame_0175.png', '/content/output_images_128_re-generated/frame_0176.png', '/content/output_images_128_re-generated/frame_0177.png', '/content/output_images_128_re-generated/frame_0178.png', '/content/output_images_128_re-generated/frame_0179.png', '/content/output_images_128_re-generated/frame_0180.png', '/content/output_images_128_re-generated/frame_0181.png', '/content/output_images_128_re-generated/frame_0182.png', '/content/output_images_128_re-generated/frame_0183.png', '/content/output_images_128_re-generated/frame_0184.png', '/content/output_images_128_re-generated/frame_0185.png', '/content/output_images_128_re-generated/frame_0186.png', '/content/output_images_128_re-generated/frame_0187.png', '/content/output_images_128_re-generated/frame_0188.png', '/content/output_images_128_re-generated/frame_0189.png', '/content/output_images_128_re-generated/frame_0190.png', '/content/output_images_128_re-generated/frame_0191.png', '/content/output_images_128_re-generated/frame_0192.png', '/content/output_images_128_re-generated/frame_0193.png', '/content/output_images_128_re-generated/frame_0194.png', '/content/output_images_128_re-generated/frame_0195.png', '/content/output_images_128_re-generated/frame_0196.png', '/content/output_images_128_re-generated/frame_0197.png', '/content/output_images_128_re-generated/frame_0198.png', '/content/output_images_128_re-generated/frame_0199.png', '/content/output_images_128_re-generated/frame_0200.png', '/content/output_images_128_re-generated/frame_0201.png', '/content/output_images_128_re-generated/frame_0202.png', '/content/output_images_128_re-generated/frame_0203.png', '/content/output_images_128_re-generated/frame_0204.png', '/content/output_images_128_re-generated/frame_0205.png', '/content/output_images_128_re-generated/frame_0206.png', '/content/output_images_128_re-generated/frame_0207.png', '/content/output_images_128_re-generated/frame_0208.png', '/content/output_images_128_re-generated/frame_0209.png', '/content/output_images_128_re-generated/frame_0210.png', '/content/output_images_128_re-generated/frame_0211.png', '/content/output_images_128_re-generated/frame_0212.png', '/content/output_images_128_re-generated/frame_0213.png', '/content/output_images_128_re-generated/frame_0214.png', '/content/output_images_128_re-generated/frame_0215.png', '/content/output_images_128_re-generated/frame_0216.png', '/content/output_images_128_re-generated/frame_0217.png', '/content/output_images_128_re-generated/frame_0218.png', '/content/output_images_128_re-generated/frame_0219.png', '/content/output_images_128_re-generated/frame_0220.png', '/content/output_images_128_re-generated/frame_0221.png', '/content/output_images_128_re-generated/frame_0222.png', '/content/output_images_128_re-generated/frame_0223.png', '/content/output_images_128_re-generated/frame_0224.png', '/content/output_images_128_re-generated/frame_0225.png', '/content/output_images_128_re-generated/frame_0226.png', '/content/output_images_128_re-generated/frame_0227.png', '/content/output_images_128_re-generated/frame_0228.png', '/content/output_images_128_re-generated/frame_0229.png', '/content/output_images_128_re-generated/frame_0230.png', '/content/output_images_128_re-generated/frame_0231.png', '/content/output_images_128_re-generated/frame_0232.png', '/content/output_images_128_re-generated/frame_0233.png', '/content/output_images_128_re-generated/frame_0234.png', '/content/output_images_128_re-generated/frame_0235.png', '/content/output_images_128_re-generated/frame_0236.png', '/content/output_images_128_re-generated/frame_0237.png', '/content/output_images_128_re-generated/frame_0238.png', '/content/output_images_128_re-generated/frame_0239.png', '/content/output_images_128_re-generated/frame_0240.png', '/content/output_images_128_re-generated/frame_0241.png', '/content/output_images_128_re-generated/frame_0242.png', '/content/output_images_128_re-generated/frame_0243.png', '/content/output_images_128_re-generated/frame_0244.png', '/content/output_images_128_re-generated/frame_0245.png', '/content/output_images_128_re-generated/frame_0246.png', '/content/output_images_128_re-generated/frame_0247.png', '/content/output_images_128_re-generated/frame_0248.png', '/content/output_images_128_re-generated/frame_0249.png', '/content/output_images_128_re-generated/frame_0250.png', '/content/output_images_128_re-generated/frame_0251.png', '/content/output_images_128_re-generated/frame_0252.png', '/content/output_images_128_re-generated/frame_0253.png', '/content/output_images_128_re-generated/frame_0254.png', '/content/output_images_128_re-generated/frame_0255.png', '/content/output_images_128_re-generated/frame_0256.png', '/content/output_images_128_re-generated/frame_0257.png', '/content/output_images_128_re-generated/frame_0258.png', '/content/output_images_128_re-generated/frame_0259.png', '/content/output_images_128_re-generated/frame_0260.png', '/content/output_images_128_re-generated/frame_0261.png', '/content/output_images_128_re-generated/frame_0262.png', '/content/output_images_128_re-generated/frame_0263.png', '/content/output_images_128_re-generated/frame_0264.png', '/content/output_images_128_re-generated/frame_0265.png', '/content/output_images_128_re-generated/frame_0266.png', '/content/output_images_128_re-generated/frame_0267.png', '/content/output_images_128_re-generated/frame_0268.png', '/content/output_images_128_re-generated/frame_0269.png', '/content/output_images_128_re-generated/frame_0270.png', '/content/output_images_128_re-generated/frame_0271.png', '/content/output_images_128_re-generated/frame_0272.png', '/content/output_images_128_re-generated/frame_0273.png', '/content/output_images_128_re-generated/frame_0274.png', '/content/output_images_128_re-generated/frame_0275.png', '/content/output_images_128_re-generated/frame_0276.png', '/content/output_images_128_re-generated/frame_0277.png', '/content/output_images_128_re-generated/frame_0278.png', '/content/output_images_128_re-generated/frame_0279.png', '/content/output_images_128_re-generated/frame_0280.png', '/content/output_images_128_re-generated/frame_0281.png', '/content/output_images_128_re-generated/frame_0282.png', '/content/output_images_128_re-generated/frame_0283.png', '/content/output_images_128_re-generated/frame_0284.png', '/content/output_images_128_re-generated/frame_0285.png', '/content/output_images_128_re-generated/frame_0286.png', '/content/output_images_128_re-generated/frame_0287.png', '/content/output_images_128_re-generated/frame_0288.png', '/content/output_images_128_re-generated/frame_0289.png', '/content/output_images_128_re-generated/frame_0290.png', '/content/output_images_128_re-generated/frame_0291.png', '/content/output_images_128_re-generated/frame_0292.png', '/content/output_images_128_re-generated/frame_0293.png', '/content/output_images_128_re-generated/frame_0294.png', '/content/output_images_128_re-generated/frame_0295.png', '/content/output_images_128_re-generated/frame_0296.png', '/content/output_images_128_re-generated/frame_0297.png', '/content/output_images_128_re-generated/frame_0298.png', '/content/output_images_128_re-generated/frame_0299.png', '/content/output_images_128_re-generated/frame_0300.png', '/content/output_images_128_re-generated/frame_0301.png', '/content/output_images_128_re-generated/frame_0302.png', '/content/output_images_128_re-generated/frame_0303.png', '/content/output_images_128_re-generated/frame_0304.png', '/content/output_images_128_re-generated/frame_0305.png', '/content/output_images_128_re-generated/frame_0306.png', '/content/output_images_128_re-generated/frame_0307.png', '/content/output_images_128_re-generated/frame_0308.png', '/content/output_images_128_re-generated/frame_0309.png', '/content/output_images_128_re-generated/frame_0310.png', '/content/output_images_128_re-generated/frame_0311.png', '/content/output_images_128_re-generated/frame_0312.png', '/content/output_images_128_re-generated/frame_0313.png', '/content/output_images_128_re-generated/frame_0314.png', '/content/output_images_128_re-generated/frame_0315.png', '/content/output_images_128_re-generated/frame_0316.png', '/content/output_images_128_re-generated/frame_0317.png', '/content/output_images_128_re-generated/frame_0318.png', '/content/output_images_128_re-generated/frame_0319.png', '/content/output_images_128_re-generated/frame_0320.png', '/content/output_images_128_re-generated/frame_0321.png', '/content/output_images_128_re-generated/frame_0322.png', '/content/output_images_128_re-generated/frame_0323.png', '/content/output_images_128_re-generated/frame_0324.png', '/content/output_images_128_re-generated/frame_0325.png', '/content/output_images_128_re-generated/frame_0326.png', '/content/output_images_128_re-generated/frame_0327.png', '/content/output_images_128_re-generated/frame_0328.png', '/content/output_images_128_re-generated/frame_0329.png', '/content/output_images_128_re-generated/frame_0330.png', '/content/output_images_128_re-generated/frame_0331.png', '/content/output_images_128_re-generated/frame_0332.png', '/content/output_images_128_re-generated/frame_0333.png', '/content/output_images_128_re-generated/frame_0334.png', '/content/output_images_128_re-generated/frame_0335.png', '/content/output_images_128_re-generated/frame_0336.png', '/content/output_images_128_re-generated/frame_0337.png', '/content/output_images_128_re-generated/frame_0338.png', '/content/output_images_128_re-generated/frame_0339.png', '/content/output_images_128_re-generated/frame_0340.png', '/content/output_images_128_re-generated/frame_0341.png', '/content/output_images_128_re-generated/frame_0342.png', '/content/output_images_128_re-generated/frame_0343.png', '/content/output_images_128_re-generated/frame_0344.png', '/content/output_images_128_re-generated/frame_0345.png', '/content/output_images_128_re-generated/frame_0346.png', '/content/output_images_128_re-generated/frame_0347.png', '/content/output_images_128_re-generated/frame_0348.png', '/content/output_images_128_re-generated/frame_0349.png', '/content/output_images_128_re-generated/frame_0350.png', '/content/output_images_128_re-generated/frame_0351.png', '/content/output_images_128_re-generated/frame_0352.png', '/content/output_images_128_re-generated/frame_0353.png', '/content/output_images_128_re-generated/frame_0354.png', '/content/output_images_128_re-generated/frame_0355.png', '/content/output_images_128_re-generated/frame_0356.png', '/content/output_images_128_re-generated/frame_0357.png', '/content/output_images_128_re-generated/frame_0358.png', '/content/output_images_128_re-generated/frame_0359.png', '/content/output_images_128_re-generated/frame_0360.png', '/content/output_images_128_re-generated/frame_0361.png', '/content/output_images_128_re-generated/frame_0362.png', '/content/output_images_128_re-generated/frame_0363.png', '/content/output_images_128_re-generated/frame_0364.png', '/content/output_images_128_re-generated/frame_0365.png', '/content/output_images_128_re-generated/frame_0366.png', '/content/output_images_128_re-generated/frame_0367.png', '/content/output_images_128_re-generated/frame_0368.png', '/content/output_images_128_re-generated/frame_0369.png', '/content/output_images_128_re-generated/frame_0370.png', '/content/output_images_128_re-generated/frame_0371.png', '/content/output_images_128_re-generated/frame_0372.png', '/content/output_images_128_re-generated/frame_0373.png', '/content/output_images_128_re-generated/frame_0374.png', '/content/output_images_128_re-generated/frame_0375.png', '/content/output_images_128_re-generated/frame_0376.png', '/content/output_images_128_re-generated/frame_0377.png', '/content/output_images_128_re-generated/frame_0378.png', '/content/output_images_128_re-generated/frame_0379.png', '/content/output_images_128_re-generated/frame_0380.png', '/content/output_images_128_re-generated/frame_0381.png', '/content/output_images_128_re-generated/frame_0382.png', '/content/output_images_128_re-generated/frame_0383.png', '/content/output_images_128_re-generated/frame_0384.png', '/content/output_images_128_re-generated/frame_0385.png', '/content/output_images_128_re-generated/frame_0386.png', '/content/output_images_128_re-generated/frame_0387.png', '/content/output_images_128_re-generated/frame_0388.png', '/content/output_images_128_re-generated/frame_0389.png', '/content/output_images_128_re-generated/frame_0390.png', '/content/output_images_128_re-generated/frame_0391.png', '/content/output_images_128_re-generated/frame_0392.png', '/content/output_images_128_re-generated/frame_0393.png', '/content/output_images_128_re-generated/frame_0394.png', '/content/output_images_128_re-generated/frame_0395.png', '/content/output_images_128_re-generated/frame_0396.png', '/content/output_images_128_re-generated/frame_0397.png', '/content/output_images_128_re-generated/frame_0398.png', '/content/output_images_128_re-generated/frame_0399.png', '/content/output_images_128_re-generated/frame_0400.png', '/content/output_images_128_re-generated/frame_0401.png', '/content/output_images_128_re-generated/frame_0402.png', '/content/output_images_128_re-generated/frame_0403.png', '/content/output_images_128_re-generated/frame_0404.png', '/content/output_images_128_re-generated/frame_0405.png', '/content/output_images_128_re-generated/frame_0406.png', '/content/output_images_128_re-generated/frame_0407.png', '/content/output_images_128_re-generated/frame_0408.png', '/content/output_images_128_re-generated/frame_0409.png', '/content/output_images_128_re-generated/frame_0410.png', '/content/output_images_128_re-generated/frame_0411.png', '/content/output_images_128_re-generated/frame_0412.png', '/content/output_images_128_re-generated/frame_0413.png', '/content/output_images_128_re-generated/frame_0414.png', '/content/output_images_128_re-generated/frame_0415.png', '/content/output_images_128_re-generated/frame_0416.png', '/content/output_images_128_re-generated/frame_0417.png', '/content/output_images_128_re-generated/frame_0418.png', '/content/output_images_128_re-generated/frame_0419.png', '/content/output_images_128_re-generated/frame_0420.png', '/content/output_images_128_re-generated/frame_0421.png', '/content/output_images_128_re-generated/frame_0422.png', '/content/output_images_128_re-generated/frame_0423.png', '/content/output_images_128_re-generated/frame_0424.png', '/content/output_images_128_re-generated/frame_0425.png', '/content/output_images_128_re-generated/frame_0426.png', '/content/output_images_128_re-generated/frame_0427.png', '/content/output_images_128_re-generated/frame_0428.png', '/content/output_images_128_re-generated/frame_0429.png', '/content/output_images_128_re-generated/frame_0430.png', '/content/output_images_128_re-generated/frame_0431.png', '/content/output_images_128_re-generated/frame_0432.png', '/content/output_images_128_re-generated/frame_0433.png', '/content/output_images_128_re-generated/frame_0434.png', '/content/output_images_128_re-generated/frame_0435.png', '/content/output_images_128_re-generated/frame_0436.png', '/content/output_images_128_re-generated/frame_0437.png', '/content/output_images_128_re-generated/frame_0438.png', '/content/output_images_128_re-generated/frame_0439.png', '/content/output_images_128_re-generated/frame_0440.png', '/content/output_images_128_re-generated/frame_0441.png', '/content/output_images_128_re-generated/frame_0442.png', '/content/output_images_128_re-generated/frame_0443.png', '/content/output_images_128_re-generated/frame_0444.png', '/content/output_images_128_re-generated/frame_0445.png', '/content/output_images_128_re-generated/frame_0446.png', '/content/output_images_128_re-generated/frame_0447.png', '/content/output_images_128_re-generated/frame_0448.png', '/content/output_images_128_re-generated/frame_0449.png', '/content/output_images_128_re-generated/frame_0450.png', '/content/output_images_128_re-generated/frame_0451.png', '/content/output_images_128_re-generated/frame_0452.png', '/content/output_images_128_re-generated/frame_0453.png', '/content/output_images_128_re-generated/frame_0454.png', '/content/output_images_128_re-generated/frame_0455.png', '/content/output_images_128_re-generated/frame_0456.png', '/content/output_images_128_re-generated/frame_0457.png', '/content/output_images_128_re-generated/frame_0458.png', '/content/output_images_128_re-generated/frame_0459.png', '/content/output_images_128_re-generated/frame_0460.png', '/content/output_images_128_re-generated/frame_0461.png', '/content/output_images_128_re-generated/frame_0462.png']\n"
          ]
        }
      ]
    },
    {
      "cell_type": "code",
      "source": [
        "from PIL import Image\n",
        "import os\n",
        "\n",
        "# @title 8.0 Retrieves the original binary data from a set of grayscale images.\n",
        "\n",
        "def get_binary_data_from_grayscale_images(image_filenames, width, height, step):\n",
        "    \"\"\"\n",
        "    Retrieves the original binary data from a set of grayscale images.\n",
        "\n",
        "    Args:\n",
        "        image_filenames: A list of filenames of the grayscale images.\n",
        "        width: Width of each image.\n",
        "        height: Height of each image.\n",
        "        step: The step size used when creating the images.\n",
        "\n",
        "    Returns:\n",
        "        The original binary string.\n",
        "    \"\"\"\n",
        "\n",
        "    binary_string = \"\"\n",
        "\n",
        "    for filename in image_filenames:\n",
        "        img = Image.open(filename).convert('L')  # Open image in grayscale mode\n",
        "        pixels = img.load()\n",
        "\n",
        "        for y in range(0, height, step):\n",
        "            for x in range(0, width, step):\n",
        "                color = pixels[x, y]  # Get pixel value\n",
        "\n",
        "                if color == 0:\n",
        "                    binary_string += \"0\"\n",
        "                elif color == 255:\n",
        "                    binary_string += \"1\"\n",
        "                else:\n",
        "                    binary_string += \"\"  # Assume other values represent spaces/skip\n",
        "\n",
        "    return binary_string\n",
        "\n"
      ],
      "metadata": {
        "id": "QzyVuLni9Gxd",
        "cellView": "form"
      },
      "execution_count": 22,
      "outputs": []
    },
    {
      "cell_type": "code",
      "source": [
        "# Example usage:\n",
        "# Assuming you have the list of image filenames from the previous step\n",
        "# ... (image_filenames) ...\n",
        "\n",
        "restored_binary_data = get_binary_data_from_grayscale_images(sorted_image_list, width, height, step=3)\n",
        "print(restored_binary_data[:100])  # Print the restored binary data\n",
        "\n",
        "if base64_to_binary_text[:200]==restored_binary_data[:200] and len(base64_to_binary_text)==len(restored_binary_data):\n",
        "  print(\"success\")\n",
        "else:\n",
        "  print(\"fail\")\n",
        "\n",
        "#"
      ],
      "metadata": {
        "colab": {
          "base_uri": "https://localhost:8080/",
          "height": 351
        },
        "id": "T1qRcoASFyXG",
        "outputId": "210cd80c-8cca-4eb1-af9f-8c6415a9e475"
      },
      "execution_count": 23,
      "outputs": [
        {
          "output_type": "error",
          "ename": "IndexError",
          "evalue": "image index out of range",
          "traceback": [
            "\u001b[0;31m---------------------------------------------------------------------------\u001b[0m",
            "\u001b[0;31mIndexError\u001b[0m                                Traceback (most recent call last)",
            "\u001b[0;32m<ipython-input-23-bb44262fc6d5>\u001b[0m in \u001b[0;36m<cell line: 0>\u001b[0;34m()\u001b[0m\n\u001b[1;32m      3\u001b[0m \u001b[0;31m# ... (image_filenames) ...\u001b[0m\u001b[0;34m\u001b[0m\u001b[0;34m\u001b[0m\u001b[0m\n\u001b[1;32m      4\u001b[0m \u001b[0;34m\u001b[0m\u001b[0m\n\u001b[0;32m----> 5\u001b[0;31m \u001b[0mrestored_binary_data\u001b[0m \u001b[0;34m=\u001b[0m \u001b[0mget_binary_data_from_grayscale_images\u001b[0m\u001b[0;34m(\u001b[0m\u001b[0msorted_image_list\u001b[0m\u001b[0;34m,\u001b[0m \u001b[0mwidth\u001b[0m\u001b[0;34m,\u001b[0m \u001b[0mheight\u001b[0m\u001b[0;34m,\u001b[0m \u001b[0mstep\u001b[0m\u001b[0;34m=\u001b[0m\u001b[0;36m3\u001b[0m\u001b[0;34m)\u001b[0m\u001b[0;34m\u001b[0m\u001b[0;34m\u001b[0m\u001b[0m\n\u001b[0m\u001b[1;32m      6\u001b[0m \u001b[0mprint\u001b[0m\u001b[0;34m(\u001b[0m\u001b[0mrestored_binary_data\u001b[0m\u001b[0;34m[\u001b[0m\u001b[0;34m:\u001b[0m\u001b[0;36m100\u001b[0m\u001b[0;34m]\u001b[0m\u001b[0;34m)\u001b[0m  \u001b[0;31m# Print the restored binary data\u001b[0m\u001b[0;34m\u001b[0m\u001b[0;34m\u001b[0m\u001b[0m\n\u001b[1;32m      7\u001b[0m \u001b[0;34m\u001b[0m\u001b[0m\n",
            "\u001b[0;32m<ipython-input-22-7b920fa09898>\u001b[0m in \u001b[0;36mget_binary_data_from_grayscale_images\u001b[0;34m(image_filenames, width, height, step)\u001b[0m\n\u001b[1;32m     26\u001b[0m         \u001b[0;32mfor\u001b[0m \u001b[0my\u001b[0m \u001b[0;32min\u001b[0m \u001b[0mrange\u001b[0m\u001b[0;34m(\u001b[0m\u001b[0;36m0\u001b[0m\u001b[0;34m,\u001b[0m \u001b[0mheight\u001b[0m\u001b[0;34m,\u001b[0m \u001b[0mstep\u001b[0m\u001b[0;34m)\u001b[0m\u001b[0;34m:\u001b[0m\u001b[0;34m\u001b[0m\u001b[0;34m\u001b[0m\u001b[0m\n\u001b[1;32m     27\u001b[0m             \u001b[0;32mfor\u001b[0m \u001b[0mx\u001b[0m \u001b[0;32min\u001b[0m \u001b[0mrange\u001b[0m\u001b[0;34m(\u001b[0m\u001b[0;36m0\u001b[0m\u001b[0;34m,\u001b[0m \u001b[0mwidth\u001b[0m\u001b[0;34m,\u001b[0m \u001b[0mstep\u001b[0m\u001b[0;34m)\u001b[0m\u001b[0;34m:\u001b[0m\u001b[0;34m\u001b[0m\u001b[0;34m\u001b[0m\u001b[0m\n\u001b[0;32m---> 28\u001b[0;31m                 \u001b[0mcolor\u001b[0m \u001b[0;34m=\u001b[0m \u001b[0mpixels\u001b[0m\u001b[0;34m[\u001b[0m\u001b[0mx\u001b[0m\u001b[0;34m,\u001b[0m \u001b[0my\u001b[0m\u001b[0;34m]\u001b[0m  \u001b[0;31m# Get pixel value\u001b[0m\u001b[0;34m\u001b[0m\u001b[0;34m\u001b[0m\u001b[0m\n\u001b[0m\u001b[1;32m     29\u001b[0m \u001b[0;34m\u001b[0m\u001b[0m\n\u001b[1;32m     30\u001b[0m                 \u001b[0;32mif\u001b[0m \u001b[0mcolor\u001b[0m \u001b[0;34m==\u001b[0m \u001b[0;36m0\u001b[0m\u001b[0;34m:\u001b[0m\u001b[0;34m\u001b[0m\u001b[0;34m\u001b[0m\u001b[0m\n",
            "\u001b[0;31mIndexError\u001b[0m: image index out of range"
          ]
        }
      ]
    },
    {
      "cell_type": "markdown",
      "source": [
        "**Failed means didnt got original data**\n",
        "\n",
        "Problem:\n",
        "\n",
        "Solution:"
      ],
      "metadata": {
        "id": "3vfxM5vVcO8X"
      }
    },
    {
      "cell_type": "code",
      "source": [
        "print(  len(base64_to_binary_text))\n",
        "print(len(restored_binary_data))\n",
        "print(restored_binary_data.count(\"0\"))\n",
        "print(restored_binary_data.count(\"1\"))"
      ],
      "metadata": {
        "colab": {
          "base_uri": "https://localhost:8080/"
        },
        "id": "VtzQz8l9-i5r",
        "outputId": "c2f472da-360a-48d7-821d-efcf88616fae"
      },
      "execution_count": null,
      "outputs": [
        {
          "output_type": "stream",
          "name": "stdout",
          "text": [
            "2944\n",
            "1222\n",
            "1031\n",
            "191\n"
          ]
        }
      ]
    },
    {
      "cell_type": "markdown",
      "source": [
        "\n",
        "\n",
        "---\n",
        "\n",
        "\n",
        "\n",
        "---\n",
        "\n"
      ],
      "metadata": {
        "id": "PKnn2gO0xcoH"
      }
    },
    {
      "cell_type": "code",
      "source": [
        "from PIL import Image\n",
        "\n",
        "def open_image(image_path):\n",
        "  \"\"\"\n",
        "  Opens an image from the specified location.\n",
        "\n",
        "  Args:\n",
        "    image_path: The path to the image file.\n",
        "\n",
        "  Returns:\n",
        "    A PIL Image object representing the opened image.\n",
        "\n",
        "  Raises:\n",
        "    FileNotFoundError: If the image file is not found.\n",
        "    OSError: If an error occurs while opening the image.\n",
        "  \"\"\"\n",
        "\n",
        "  try:\n",
        "    img = Image.open(image_path)\n",
        "    return img\n",
        "  except FileNotFoundError:\n",
        "    raise FileNotFoundError(f\"Image file not found: {image_path}\")\n",
        "  except OSError as e:\n",
        "    raise OSError(f\"Error opening image: {image_path} ({e})\")\n",
        "\n",
        "# Example usage\n",
        "image_path =  \"output_images_128_re-generated/frame_4040.png\"\n",
        "print(image_path)\n",
        "\n",
        "img = open_image(\"output_images_128_re-generated/frame_4040.png\")\n",
        "img.show()  # Display the image\n"
      ],
      "metadata": {
        "colab": {
          "base_uri": "https://localhost:8080/"
        },
        "id": "k9sQN4zexc2d",
        "outputId": "8d1d50ed-17bd-45c4-9f0c-a1b2ff881f9d"
      },
      "execution_count": null,
      "outputs": [
        {
          "output_type": "stream",
          "name": "stdout",
          "text": [
            "output_images_128_re-generated/frame_4040.png\n"
          ]
        }
      ]
    },
    {
      "cell_type": "markdown",
      "source": [
        "\n",
        "\n",
        "---\n",
        "\n",
        "\n",
        "\n",
        "---\n",
        "\n"
      ],
      "metadata": {
        "id": "LIv_R7GD7qF8"
      }
    },
    {
      "cell_type": "markdown",
      "source": [
        "#Decode (Ext)"
      ],
      "metadata": {
        "id": "8A_AcDACDeXQ"
      }
    },
    {
      "cell_type": "code",
      "source": [
        "# @title Converts a binary string to a base64 encoded string.\n",
        "def binary_to_base64(binary_string):\n",
        "    \"\"\"Converts a binary string to a base64 encoded string.\"\"\"\n",
        "    try:\n",
        "        # Ensure the binary string has a length divisible by 8\n",
        "        if len(binary_string) % 8 != 0:\n",
        "            print(\"Warning: Binary string length is not a multiple of 8. Padding with zeros.\")\n",
        "            binary_string += '0' * (8 - (len(binary_string) % 8))  # Pad with zeros\n",
        "\n",
        "        decoded_bytes = bytearray()\n",
        "        for i in range(0, len(binary_string), 8):\n",
        "            byte_string = binary_string[i:i+8]\n",
        "            decoded_bytes.append(int(byte_string, 2))\n",
        "\n",
        "        base64_string = base64.b64encode(decoded_bytes).decode('utf-8')\n",
        "        return base64_string\n",
        "    except Exception as e:\n",
        "        print(f\"An error occurred: {e}\")\n",
        "        return None\n",
        "\n"
      ],
      "metadata": {
        "colab": {
          "base_uri": "https://localhost:8080/",
          "height": 91
        },
        "id": "B--aBrC1YRdu",
        "outputId": "fc577b31-e8a0-47aa-8269-e3572d5dd9ad",
        "cellView": "form"
      },
      "execution_count": null,
      "outputs": [
        {
          "output_type": "stream",
          "name": "stdout",
          "text": [
            "827300\n",
            "827300\n",
            "success\n"
          ]
        },
        {
          "output_type": "execute_result",
          "data": {
            "text/plain": [
              "'UEsDBBQAAAAIAHs3MFoE6PblHawAALuAAQAOAAAAYm9va21hcmtzLmh0bWzsu1mzrEh6rnmvX7GVF33Mmk4BAQGEVFltzEMwz3AjY57nmV/f7EpVSepz7JyWzFrdF7lsbyPC3XF33L/heZ21/vT3jEbbgc7+UFnbokmd/ZUahqaL5ubXvGqzX+E//92f/v7XX3/YZbX8'"
            ],
            "application/vnd.google.colaboratory.intrinsic+json": {
              "type": "string"
            }
          },
          "metadata": {},
          "execution_count": 32
        }
      ]
    },
    {
      "cell_type": "code",
      "source": [
        "restored_binary_to_base64_text = binary_to_base64(restored_binary_data)\n",
        "\n",
        "print(len(restored_binary_to_base64_text))\n",
        "print(len(zip_to_base64_text))\n",
        "if zip_to_base64_text[:200]== restored_binary_to_base64_text[:200]:\n",
        "  print(\"success\")\n",
        "else:\n",
        "  print(\"fail\")\n",
        "\n",
        "restored_binary_to_base64_text[:200]"
      ],
      "metadata": {
        "id": "wtUiq16nNzvj"
      },
      "execution_count": null,
      "outputs": []
    },
    {
      "cell_type": "code",
      "source": [
        "\n",
        "# @title Converts a base64 back to a zip file.\n",
        "def base64_to_zip(text_data, zip_filename):\n",
        "    \"\"\"Converts a base64 encoded string back to a zip file.\"\"\"\n",
        "    try:\n",
        "        decoded_zip = base64.b64decode(text_data)\n",
        "        with open(zip_filename, \"wb\") as zip_file:\n",
        "            zip_file.write(decoded_zip)\n",
        "        print(f\"Successfully created {zip_filename}\")\n",
        "    except Exception as e:\n",
        "        print(f\"An error occurred: {e}\")\n",
        "\n",
        "\n",
        "restored_archive=\"restored_archive.zip\"\n",
        "base64_to_zip(restored_binary_to_base64_text,restored_archive )"
      ],
      "metadata": {
        "colab": {
          "base_uri": "https://localhost:8080/"
        },
        "id": "a125K8CvZCiv",
        "outputId": "f3ed5926-fb8a-43f9-cb15-8dc58a08b289",
        "cellView": "form"
      },
      "execution_count": null,
      "outputs": [
        {
          "output_type": "stream",
          "name": "stdout",
          "text": [
            "Successfully created restored_archive.zip\n"
          ]
        }
      ]
    },
    {
      "cell_type": "code",
      "source": [
        "# @title Unzips a zip archive to a specified directory.\n",
        "\n",
        "\n",
        "def unzip_files(zip_filename, output_dir):\n",
        "  \"\"\"\n",
        "  Unzips a zip archive to a specified directory.\n",
        "\n",
        "  Args:\n",
        "    zip_filename: The path to the zip file to unzip.\n",
        "    output_dir: The directory to extract the contents to.\n",
        "  \"\"\"\n",
        "  try:\n",
        "    # Avoid changing the working directory (os.chdir) unnecessarily\n",
        "    with zipfile.ZipFile(zip_filename, 'r') as zipf:\n",
        "      os.makedirs(output_dir, exist_ok=True)\n",
        "      print(f\"Unzipping {zip_filename} to {output_dir}\")\n",
        "      zipf.extractall(output_dir)\n",
        "    print(f\"Successfully extracted {zip_filename} to {output_dir}\")\n",
        "\n",
        "  except FileNotFoundError:\n",
        "    print(f\"Error: Zip file not found: {zip_filename}\")\n",
        "  except zipfile.BadZipFile:\n",
        "    print(f\"Error: Invalid zip file: {zip_filename}\")\n",
        "  except Exception as e:\n",
        "    print(f\"An error occurred: {e}\")\n",
        "\n",
        "\n",
        "\n",
        "# Example Usage:\n",
        "print(\"Files in the current directory:\"+ restored_archive)\n",
        "# zip_filename = restored_archive  # Replace with the actual zip file path\n",
        "output_dir = \"unzipprd_out_dir\"  # Replace with your desired extraction directory\n",
        "unzip_files(restored_archive, output_dir)"
      ],
      "metadata": {
        "colab": {
          "base_uri": "https://localhost:8080/"
        },
        "id": "0j6lGn14XgTY",
        "outputId": "77773220-c613-4d78-9107-9e21f2cb1024",
        "cellView": "form"
      },
      "execution_count": null,
      "outputs": [
        {
          "output_type": "stream",
          "name": "stdout",
          "text": [
            "Files in the current directory:restored_archive.zip\n",
            "Unzipping restored_archive.zip to unzipprd_out_dir\n",
            "Successfully extracted restored_archive.zip to unzipprd_out_dir\n"
          ]
        }
      ]
    },
    {
      "cell_type": "markdown",
      "source": [
        "\n",
        "\n",
        "---\n",
        "\n"
      ],
      "metadata": {
        "id": "zGpxTB9ZijbT"
      }
    },
    {
      "cell_type": "markdown",
      "source": [
        "\n",
        "\n",
        "---\n",
        "\n",
        "execute\n",
        "\n",
        "---\n",
        "\n"
      ],
      "metadata": {
        "id": "Y9atvjp8ZIUF"
      }
    },
    {
      "cell_type": "code",
      "source": [
        "# @title Example usage (assuming you have a base64 encoded zip string)\n",
        "print(\"\\nbase64 representation :\")\n",
        "zip_to_base64_string = zip_to_base64(\"my_archive.zip\") #Replace with your zip file\n",
        "print(zip_to_base64_string[:100])\n",
        "\n",
        "\n",
        "# Example usage (assuming you have a binary string)\n",
        "# ... (previous code) ...\n",
        "\n",
        "\n",
        "if zip_to_base64_string:\n",
        "    binary_data = base64_to_binary(zip_to_base64_string)\n",
        "    if binary_data:\n",
        "        print(\"Binary representation:\")\n",
        "        print(binary_data[:100])  # Print the first 100 characters of the binary data\n",
        "        print(binary_data.count)\n",
        "\n",
        "        # Convert binary back to base64\n",
        "        restored_base64 = binary_to_base64(binary_data)\n",
        "        if restored_base64:\n",
        "            print(\"\\nRestored base64 string:\")\n",
        "            print(restored_base64[:100]) # Print the first 100 characters for verification\n",
        "            print(restored_base64.count)\n",
        "            #Convert to zip file\n",
        "            base64_to_zip(restored_base64, \"restored_archive.zip\")\n",
        "        else:\n",
        "            print(\"Failed to convert binary back to base64.\")\n",
        "    else:\n",
        "        print(\"Failed to convert base64 to binary.\")\n",
        "else:\n",
        "    print(\"Failed to convert zip to base64.\")"
      ],
      "metadata": {
        "colab": {
          "base_uri": "https://localhost:8080/"
        },
        "cellView": "form",
        "id": "8Wy4zFicKbT2",
        "outputId": "c3d088fb-0b60-4391-b619-cde3f748f6b5"
      },
      "execution_count": null,
      "outputs": [
        {
          "output_type": "stream",
          "name": "stdout",
          "text": [
            "\n",
            "base64 representation string:\n",
            "UEsDBBQAAAAIAPKlK1pwKXSnRb0HAB1ICAAXAAAASU1HXzIwMTUxMTIxXzEwMjAwNC5qcGfsvXk8VV//8L3POaYoSiIRDaSSCkkU\n",
            "Binary representation:\n",
            "0101000001001011000000110000010000010100000000000000000000000000000010000000000011110010101001010010\n",
            "<built-in method count of str object at 0x55e577431bf0>\n",
            "\n",
            "Restored base64 string:\n",
            "UEsDBBQAAAAIAPKlK1pwKXSnRb0HAB1ICAAXAAAASU1HXzIwMTUxMTIxXzEwMjAwNC5qcGfsvXk8VV//8L3POaYoSiIRDaSSCkkU\n",
            "<built-in method count of str object at 0x55e576c8d7b0>\n",
            "Successfully created restored_archive.zip\n"
          ]
        }
      ]
    },
    {
      "cell_type": "code",
      "source": [
        "# @title Converts a base64 encoded zip string to binary data.\n",
        "# now create a function to convert encoded_zip into binary also create a function to convert back into previous data type\n",
        "\n",
        "\n",
        "# @title Converts a base64 encoded zip string to binary data.\n",
        "def encoded_zip_to_binary(encoded_zip):\n",
        "  \"\"\"Converts a base64 encoded zip string to binary data.\n",
        "\n",
        "  Args:\n",
        "    encoded_zip: The base64 encoded zip string.\n",
        "\n",
        "  Returns:\n",
        "    The binary data representing the zip file, or None if an error occurs.\n",
        "  \"\"\"\n",
        "  try:\n",
        "    zip_bytes = base64.b64decode(encoded_zip)\n",
        "    return zip_bytes\n",
        "  except Exception as e:\n",
        "    print(f\"Error decoding base64 string: {e}\")\n",
        "    return None\n",
        "\n",
        "# @title Converts a base64 encoded zip string to binary data.\n",
        "def binary_to_encoded_zip(zip_bytes):\n",
        "  \"\"\"Converts binary zip data to a base64 encoded string.\n",
        "\n",
        "  Args:\n",
        "    zip_bytes: The binary data representing the zip file.\n",
        "\n",
        "  Returns:\n",
        "    The base64 encoded string, or None if an error occurs.\n",
        "  \"\"\"\n",
        "  try:\n",
        "    encoded_zip = base64.b64encode(zip_bytes).decode('utf-8')\n",
        "    return encoded_zip\n",
        "  except Exception as e:\n",
        "    print(f\"Error encoding to base64 string: {e}\")\n",
        "    return None\n",
        "\n",
        "bData=zip_to_base64_text(\"/content/zipped_out_dir/my_archive.zip\")\n",
        "bData[:1100]\n",
        "\n",
        "bData=encoded_zip_to_binary(bData)\n",
        "\n",
        "bData[:100]"
      ],
      "metadata": {
        "id": "IjR2kU20GIa0",
        "cellView": "form"
      },
      "execution_count": null,
      "outputs": []
    },
    {
      "cell_type": "markdown",
      "source": [
        "\n",
        "\n",
        "---\n",
        "\n"
      ],
      "metadata": {
        "id": "rICuCGd4JbeZ"
      }
    },
    {
      "cell_type": "code",
      "source": [],
      "metadata": {
        "id": "WNoDG5ARJdhA"
      },
      "execution_count": null,
      "outputs": []
    }
  ]
}